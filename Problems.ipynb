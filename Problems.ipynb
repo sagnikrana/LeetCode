{
 "cells": [
  {
   "cell_type": "markdown",
   "metadata": {},
   "source": [
    "### 1. Two Sum"
   ]
  },
  {
   "cell_type": "markdown",
   "metadata": {},
   "source": [
    "Given an array of integers, return indices of the two numbers such that they add up to a specific target.\n",
    "\n",
    "You may assume that each input would have exactly one solution, and you may not use the same element twice.\n",
    "\n",
    "Example:\n",
    "\n",
    "Given nums = [2, 7, 11, 15], target = 9,\n",
    "\n",
    "Because nums[0] + nums[1] = 2 + 7 = 9,\n",
    "return [0, 1]."
   ]
  },
  {
   "cell_type": "code",
   "execution_count": 1,
   "metadata": {},
   "outputs": [
    {
     "name": "stdout",
     "output_type": "stream",
     "text": [
      "[0, 1]\n"
     ]
    }
   ],
   "source": [
    "class Solution:\n",
    "    \n",
    "    def twoSum(self, nums, target):\n",
    "        \"\"\"\n",
    "        :type nums: List[int]\n",
    "        :type target: int\n",
    "        :rtype: List[int]\n",
    "        \"\"\"\n",
    "        main_dict = {}\n",
    "        found = False\n",
    "        for index, num in enumerate(nums):\n",
    "            if target-num not in main_dict:\n",
    "                temp_list = (target - num, index)\n",
    "                main_dict[num] = temp_list\n",
    "            else:\n",
    "                found = True\n",
    "                return [main_dict[target-num][1], index]\n",
    "        \n",
    "        if found is False:\n",
    "            return [-1,-1]\n",
    "                    \n",
    "if __name__ == '__main__':\n",
    "    \n",
    "    sol = Solution()\n",
    "    print(sol.twoSum([2,7,11,15], 9))"
   ]
  },
  {
   "cell_type": "markdown",
   "metadata": {},
   "source": [
    "### 2. Running Sum for 1-D array"
   ]
  },
  {
   "cell_type": "markdown",
   "metadata": {},
   "source": [
    "Given an array nums. We define a running sum of an array as runningSum[i] = sum(nums[0]…nums[i]).\n",
    "\n",
    "Return the running sum of nums.\n",
    "\n",
    " \n",
    "\n",
    "Example 1:\n",
    "\n",
    "Input: nums = [1,2,3,4]\n",
    "Output: [1,3,6,10]\n",
    "Explanation: Running sum is obtained as follows: [1, 1+2, 1+2+3, 1+2+3+4].\n",
    "Example 2:\n",
    "\n",
    "Input: nums = [1,1,1,1,1]\n",
    "Output: [1,2,3,4,5]\n",
    "Explanation: Running sum is obtained as follows: [1, 1+1, 1+1+1, 1+1+1+1, 1+1+1+1+1].\n",
    "Example 3:\n",
    "\n",
    "Input: nums = [3,1,2,10,1]\n",
    "Output: [3,4,6,16,17]\n",
    " \n",
    "\n",
    "Constraints:\n",
    "\n",
    "1 <= nums.length <= 1000\n",
    "-10^6 <= nums[i] <= 10"
   ]
  },
  {
   "cell_type": "code",
   "execution_count": 48,
   "metadata": {},
   "outputs": [
    {
     "name": "stdout",
     "output_type": "stream",
     "text": [
      "[1, 3, 6, 10, 15]\n"
     ]
    }
   ],
   "source": [
    "class Solution:\n",
    "    def runningSum(self, nums):\n",
    "        \"\"\"\n",
    "        :type nums: List[int]\n",
    "        :rtype: List[int]\n",
    "        \"\"\"\n",
    "        \n",
    "        res = [nums[0]]\n",
    "        for i in range(1,len(nums)):\n",
    "            res.append(res[-1]+nums[i])\n",
    "            \n",
    "        return res\n",
    "    \n",
    "    def runningSumSameArray(self, nums):\n",
    "        \n",
    "        for i in range(1, len(nums)):\n",
    "            nums[i] = nums[i-1]+nums[i]\n",
    "        \n",
    "        return nums\n",
    "        \n",
    "if __name__ == '__main__':\n",
    "    \n",
    "    sol = Solution()\n",
    "    print(sol.runningSumSameArray([1,2,3,4,5]))"
   ]
  },
  {
   "cell_type": "markdown",
   "metadata": {},
   "source": [
    "### 3. Median of two sorted arrays: - to be done later"
   ]
  },
  {
   "cell_type": "markdown",
   "metadata": {},
   "source": [
    "There are two sorted arrays nums1 and nums2 of size m and n respectively.\n",
    "\n",
    "Find the median of the two sorted arrays. The overall run time complexity should be O(log (m+n)).\n",
    "\n",
    "You may assume nums1 and nums2 cannot be both empty.\n",
    "\n",
    "Example 1:\n",
    "\n",
    "nums1 = [1, 3]\n",
    "nums2 = [2]\n",
    "\n",
    "The median is 2.0<br>\n",
    "Example 2:\n",
    "\n",
    "nums1 = [1, 2]\n",
    "nums2 = [3, 4]\n",
    "\n",
    "The median is (2 + 3)/2 = 2.5"
   ]
  },
  {
   "cell_type": "code",
   "execution_count": 77,
   "metadata": {},
   "outputs": [
    {
     "name": "stdout",
     "output_type": "stream",
     "text": [
      "1\n"
     ]
    }
   ],
   "source": [
    "from statistics import mean\n",
    "\n",
    "class Solution:\n",
    "    def findMedianSortedArraysNaive(self, nums1, nums2):\n",
    "        \"\"\"\n",
    "        :type nums1: List[int]\n",
    "        :type nums2: List[int]\n",
    "        :rtype: float\n",
    "        \"\"\"\n",
    "        arr = sorted(nums1+nums2)\n",
    "        \n",
    "        if len(arr)%2 == 0:\n",
    "            median_index = [len(arr)/2, (len(arr)/2)+1]\n",
    "            return (arr[median_index[0]-1] + arr[median_index[1]-1] )/ 2\n",
    "        else:\n",
    "            median_index = [(len(arr)//2)+1]\n",
    "            return (arr[median_index[0]-1])\n",
    "    \n",
    "        \n",
    "    def findMedianSortedArrays(self, nums1, nums2):\n",
    "        \"\"\"\n",
    "        :type nums1: List[int]\n",
    "        :type nums2: List[int]\n",
    "        :rtype: float\n",
    "        \"\"\"\n",
    "        res = []\n",
    "        total_length = len(nums1) + len(nums2) - 1\n",
    "        \n",
    "        if total_length % 2 == 0:\n",
    "            median_index = [total_length//2]\n",
    "        else:\n",
    "            median_index = [total_length//2, (total_length//2)+1]\n",
    "        \n",
    "        while(len(nums1) > 0 or len(nums2) > 0):\n",
    "            \n",
    "            # Single comparision\n",
    "            \n",
    "            if len(nums1) > 0 and len(nums2) > 0:\n",
    "            \n",
    "                if nums1[0] > nums2[0]:\n",
    "                    res.append(nums1[0])\n",
    "                    del nums1[0]\n",
    "\n",
    "                if nums1[0] < nums2[0]:\n",
    "                    res.append(nums2[0])\n",
    "                    del nums2[0]\n",
    "            \n",
    "            elif len(nums1) == 0:\n",
    "                \n",
    "                res.append(nums2[0])\n",
    "                del nums2[0]\n",
    "                \n",
    "            elif len(nums2) == 0:\n",
    "                \n",
    "                res.append(nums1[0])\n",
    "                del nums1[0]\n",
    "                \n",
    "            if median_index[-1]+2 == len(res):\n",
    "                temp = list()\n",
    "                for index in median_index:\n",
    "                    temp.append(res[index])\n",
    "                \n",
    "                return mean(temp)\n",
    "                \n",
    "                    \n",
    "                \n",
    "\n",
    "if __name__ == '__main__':\n",
    "    \n",
    "    sol = Solution()\n",
    "    print(sol.findMedianSortedArrays(nums1 = [1, 3], nums2 = [2]))"
   ]
  },
  {
   "cell_type": "markdown",
   "metadata": {},
   "source": [
    "### 4. Number of good pairs"
   ]
  },
  {
   "cell_type": "markdown",
   "metadata": {},
   "source": [
    "Given an array of integers nums.\n",
    "\n",
    "A pair (i,j) is called good if nums[i] == nums[j] and i < j.\n",
    "\n",
    "Return the number of good pairs.\n",
    "\n",
    " \n",
    "\n",
    "Example 1:\n",
    "\n",
    "Input: nums = [1,2,3,1,1,3] <br>\n",
    "Output: 4<br>\n",
    "Explanation: There are 4 good pairs (0,3), (0,4), (3,4), (2,5) 0-indexed.<br>\n",
    "Example 2:<br>\n",
    "<br>\n",
    "Input: nums = [1,1,1,1]\n",
    "Output: 6<br>\n",
    "Explanation: Each pair in the array are good.<br>\n",
    "Example 3:<br>\n",
    "\n",
    "Input: nums = [1,2,3]<br>\n",
    "Output: 0<br>\n",
    " \n",
    "\n",
    "Constraints:<br>\n",
    "\n",
    "1 <= nums.length <= 100<br>\n",
    "1 <= nums[i] <= 100"
   ]
  },
  {
   "cell_type": "code",
   "execution_count": 108,
   "metadata": {},
   "outputs": [
    {
     "name": "stdout",
     "output_type": "stream",
     "text": [
      "6\n"
     ]
    }
   ],
   "source": [
    "class Solution:\n",
    "    def numIdenticalPairs(self, nums):\n",
    "        \"\"\"\n",
    "        :type nums: List[int]\n",
    "        :rtype: int\n",
    "        \"\"\"\n",
    "        main_dict = dict()\n",
    "        res = []\n",
    "        for index,num in enumerate(nums):\n",
    "            if num not in main_dict:\n",
    "                temp_list = list()\n",
    "                temp_list.append(index)\n",
    "                main_dict[num] = temp_list\n",
    "            else:\n",
    "                main_dict[num].append(index)\n",
    "        \n",
    "        flag = True\n",
    "        for key in main_dict.keys():\n",
    "            if len(main_dict[key]) > 1:\n",
    "                if flag == True:\n",
    "                    res.append(self.indexCombinations(main_dict[key]))\n",
    "                    flag = False\n",
    "                else:\n",
    "                    res[0] = res[-1] + self.indexCombinations(main_dict[key])\n",
    "                    \n",
    "        if len(res) > 0:\n",
    "            return len(res[-1])\n",
    "        else:\n",
    "            return 0\n",
    "                \n",
    "        \n",
    "    def indexCombinations(self, index_list):\n",
    "\n",
    "        res = []\n",
    "        i = 0\n",
    "        while(i != len(index_list)):\n",
    "            for j in range(i, len(index_list)):\n",
    "                if i != j:\n",
    "                    res.append((index_list[i], index_list[j]))\n",
    "            i += 1\n",
    "        return res\n",
    "        \n",
    "if __name__ == '__main__':\n",
    "    \n",
    "    sol = Solution()\n",
    "    print(sol.numIdenticalPairs([1,1,1,1]))"
   ]
  },
  {
   "cell_type": "markdown",
   "metadata": {},
   "source": [
    "### 5. Sort Array By Parity"
   ]
  },
  {
   "cell_type": "markdown",
   "metadata": {},
   "source": [
    "Given an array A of non-negative integers, return an array consisting of all the even elements of A, followed by all the odd elements of A.\n",
    "\n",
    "You may return any answer array that satisfies this condition.\n",
    "\n",
    " \n",
    "\n",
    "Example 1:<br><br>\n",
    "\n",
    "Input: [3,1,2,4] <br>\n",
    "Output: [2,4,3,1]<br>\n",
    "The outputs [4,2,3,1], [2,4,1,3], and [4,2,1,3] would also be accepted."
   ]
  },
  {
   "cell_type": "code",
   "execution_count": 109,
   "metadata": {},
   "outputs": [
    {
     "name": "stdout",
     "output_type": "stream",
     "text": [
      "[2, 4, 3, 1]\n"
     ]
    }
   ],
   "source": [
    "class Solution:\n",
    "    def sortArrayByParityNaive(self, A):\n",
    "        \"\"\"\n",
    "        :type A: List[int]\n",
    "        :rtype: List[int]\n",
    "        \"\"\"\n",
    "        even = list()\n",
    "        odd = list()\n",
    "        for num in A:\n",
    "            if num%2 == 0:\n",
    "                even.append(num)\n",
    "            else:\n",
    "                odd.append(num)\n",
    "        return even+odd\n",
    "    \n",
    "    def sortArrayByParity(self, A):\n",
    "        \"\"\"\n",
    "        :type A: List[int]\n",
    "        :rtype: List[int]\n",
    "        \"\"\"\n",
    "        A.sort(key = lambda x: x % 2)\n",
    "        return A\n",
    "        \n",
    "        \n",
    "if __name__ == '__main__':\n",
    "    \n",
    "    sol = Solution()\n",
    "    print(sol.sortArrayByParity([3,1,2,4]))"
   ]
  },
  {
   "cell_type": "markdown",
   "metadata": {},
   "source": [
    "### 6. Search inserted position"
   ]
  },
  {
   "cell_type": "markdown",
   "metadata": {},
   "source": [
    "Given a sorted array and a target value, return the index if the target is found. If not, return the index where it would be if it were inserted in order.\n",
    "\n",
    "You may assume no duplicates in the array.\n",
    "\n",
    "Example 1: <br> <br>\n",
    "\n",
    "Input: [1,3,5,6], 5 <br>\n",
    "Output: 2 <br>\n",
    "Example 2: <br> <br>\n",
    "\n",
    "Input: [1,3,5,6], 2 <br>\n",
    "Output: 1 <br>\n",
    "Example 3: <br>\n",
    "\n",
    "Input: [1,3,5,6], 7 <br>\n",
    "Output: 4 <br>\n",
    "Example 4: <br>\n",
    "\n",
    "Input: [1,3,5,6], 0 <br>\n",
    "Output: 0 <br>"
   ]
  },
  {
   "cell_type": "code",
   "execution_count": 37,
   "metadata": {},
   "outputs": [
    {
     "name": "stdout",
     "output_type": "stream",
     "text": [
      "2\n"
     ]
    }
   ],
   "source": [
    "class Solution:\n",
    "    \n",
    "    def searchInsertNew(self, nums, target) -> int:\n",
    "        left, right = 0, len(nums) - 1\n",
    "        while left <= right:\n",
    "            pivot = (left + right) // 2\n",
    "            if nums[pivot] == target:\n",
    "                return pivot\n",
    "            if target < nums[pivot]:\n",
    "                right = pivot - 1\n",
    "            else:\n",
    "                left = pivot + 1\n",
    "        return left\n",
    "\n",
    "#     def searchInsert(self, nums, target):\n",
    "#         \"\"\"\n",
    "#         :type nums: List[int]\n",
    "#         :type target: int\n",
    "#         :rtype: int\n",
    "#         \"\"\"\n",
    "#         mid_point = len(nums) // 2\n",
    "#         print('Mid point is', mid_point)\n",
    "        \n",
    "#         if nums[mid_point] == target:\n",
    "#             return mid_point\n",
    "        \n",
    "#         if len(nums) == 2:\n",
    "            \n",
    "#             if target <= nums[0]:\n",
    "#                 print('1st point')\n",
    "#                 return mid_point - 1\n",
    "            \n",
    "#             elif target == nums[-1] or target > nums[0]:\n",
    "#                 print('2nd point')\n",
    "#                 return mid_point\n",
    "            \n",
    "#             elif target > nums[-1]:\n",
    "#                 print('3rd point')\n",
    "#                 return mid_point + 1\n",
    "            \n",
    "#         else:\n",
    "        \n",
    "#             if nums[mid_point] > target:\n",
    "#                 self.searchInsert(nums[:mid_point+1], target)\n",
    "\n",
    "#             elif nums[mid_point] < target:\n",
    "#                 self.searchInsert(nums[mid_point:], target)\n",
    "            \n",
    "    def searchInsertNaive(self, nums, target):\n",
    "        \n",
    "        if not nums:\n",
    "            return 0\n",
    "        \n",
    "        for index, num in enumerate(nums):\n",
    "            diff = target - num\n",
    "            if diff < 0:\n",
    "                return 0\n",
    "            elif diff == 0:\n",
    "                return index\n",
    "            elif index < len(nums)-1:\n",
    "                diff1 = target - nums[index+1]\n",
    "                if diff > 0 and diff1 < 0:\n",
    "                    \n",
    "                    return index+1\n",
    "            elif index == len(nums)-1:\n",
    "                return index+1\n",
    "        \n",
    "if __name__ == '__main__':\n",
    "    \n",
    "    sol = Solution()\n",
    "    print(sol.searchInsertNew([1,3], 4))"
   ]
  },
  {
   "cell_type": "markdown",
   "metadata": {},
   "source": [
    "### 7. Best time to buy and sell stocks I"
   ]
  },
  {
   "cell_type": "markdown",
   "metadata": {},
   "source": [
    "Say you have an array for which the ith element is the price of a given stock on day i.\n",
    "\n",
    "If you were only permitted to complete at most one transaction (i.e., buy one and sell one share of the stock), design an algorithm to find the maximum profit.\n",
    "\n",
    "Note that you cannot sell a stock before you buy one.<br>\n",
    "\n",
    "Example 1:<br>\n",
    "\n",
    "Input: [7,1,5,3,6,4]<br>\n",
    "Output: 5<br>\n",
    "Explanation: Buy on day 2 (price = 1) and sell on day 5 (price = 6), profit = 6-1 = 5.<br>\n",
    "             Not 7-1 = 6, as selling price needs to be larger than buying price.<br>\n",
    "Example 2:\n",
    "\n",
    "Input: [7,6,4,3,1]<br>\n",
    "Output: 0<br>\n",
    "Explanation: In this case, no transaction is done, i.e. max profit = 0.<br>"
   ]
  },
  {
   "cell_type": "code",
   "execution_count": 26,
   "metadata": {},
   "outputs": [
    {
     "name": "stdout",
     "output_type": "stream",
     "text": [
      "2\n"
     ]
    }
   ],
   "source": [
    "class Solution:\n",
    "    def maxProfit(self, prices):\n",
    "        \"\"\"\n",
    "        :type prices: List[int]\n",
    "        :rtype: int\n",
    "        \"\"\"\n",
    "        if not prices:\n",
    "                return 0\n",
    "        \n",
    "        dict_ = dict()\n",
    "\n",
    "        for price in prices:\n",
    "            if price not in dict_:\n",
    "                temp_list = []\n",
    "                main_dict[price] = temp_list\n",
    "            else:\n",
    "                \n",
    "\n",
    "if __name__ == '__main__':\n",
    "    \n",
    "    sol = Solution()\n",
    "    print(sol.maxProfit([2,4,1]))"
   ]
  },
  {
   "cell_type": "markdown",
   "metadata": {},
   "source": [
    "### 8. Shortest Unsorted Continuous Subarray"
   ]
  },
  {
   "cell_type": "markdown",
   "metadata": {},
   "source": [
    "Given an integer array, you need to find one continuous subarray that if you only sort this subarray in ascending order, then the whole array will be sorted in ascending order, too.\n",
    "\n",
    "You need to find the shortest such subarray and output its length.\n",
    "\n",
    "Example 1: <br>\n",
    "Input: [2, 6, 4, 8, 10, 9, 15]<br>\n",
    "Output: 5<br>\n",
    "Explanation: You need to sort [6, 4, 8, 10, 9] in ascending order to make the whole array sorted in ascending order.<br>\n",
    "Note:<br>\n",
    "Then length of the input array is in range [1, 10,000].<br>\n",
    "The input array may contain duplicates, so ascending order here means <=.<br>"
   ]
  },
  {
   "cell_type": "code",
   "execution_count": null,
   "metadata": {},
   "outputs": [],
   "source": [
    "class Solution:\n",
    "    def findUnsortedSubarray(self, nums):\n",
    "        \"\"\"\n",
    "        :type nums: List[int]\n",
    "        :rtype: int\n",
    "        \"\"\"\n",
    "        \n",
    "if __name__ == '__main__':\n",
    "        \n",
    "    sol = Solution()\n",
    "    print(sol.findUnsortedSubarray([2,4,1]))"
   ]
  },
  {
   "cell_type": "markdown",
   "metadata": {},
   "source": [
    "### 9. Majority Element"
   ]
  },
  {
   "cell_type": "markdown",
   "metadata": {},
   "source": [
    "Given an array of size n, find the majority element. The majority element is the element that appears more than ⌊ n/2 ⌋ times.\n",
    "\n",
    "You may assume that the array is non-empty and the majority element always exist in the array.\n",
    "\n",
    "Example 1: <br>\n",
    "\n",
    "Input: [3,2,3]<br>\n",
    "Output: 3<br>\n",
    "Example 2:<br>\n",
    "\n",
    "Input: [2,2,1,1,1,2,2]<br>\n",
    "Output: 2<br>"
   ]
  },
  {
   "cell_type": "code",
   "execution_count": 25,
   "metadata": {},
   "outputs": [
    {
     "name": "stdout",
     "output_type": "stream",
     "text": [
      "2\n"
     ]
    }
   ],
   "source": [
    "class Solution:\n",
    "    def majorityElementNaive(self, nums):\n",
    "        \"\"\"\n",
    "        :type nums: List[int]\n",
    "        :rtype: int\n",
    "        \"\"\"\n",
    "        if not nums:\n",
    "            return -1\n",
    "        \n",
    "        nums = sorted(nums)\n",
    "        suspect = nums[(len(nums) // 2 )]\n",
    "        occ = 0\n",
    "        \n",
    "        for num in nums:\n",
    "            if num == suspect:\n",
    "                occ = occ + 1\n",
    "        \n",
    "        if occ > len(nums)//2:\n",
    "            return suspect\n",
    "        else:\n",
    "            return -1\n",
    "        \n",
    "    def majorityElementNaive1(self, nums):\n",
    "        \"\"\"\n",
    "        :type nums: List[int]\n",
    "        :rtype: int\n",
    "        \"\"\"\n",
    "        main_dict = dict()\n",
    "        for num in nums:\n",
    "            if num in main_dict:\n",
    "                main_dict[num] = main_dict[num] + 1\n",
    "            else:\n",
    "                main_dict[num] = 1\n",
    "        \n",
    "        suspect = sorted(main_dict, key=main_dict.get)[-1]\n",
    "        \n",
    "        if main_dict[suspect] > len(nums)//2:\n",
    "            return suspect\n",
    "        else:\n",
    "            return -1\n",
    "        \n",
    "    \n",
    "    def majorityElement(self, nums):\n",
    "        \"\"\"\n",
    "        :type nums: List[int]\n",
    "        :rtype: int\n",
    "        \"\"\"\n",
    "        if not nums:\n",
    "            return -1\n",
    "        elif len(nums) == 1:\n",
    "            return nums[-1]\n",
    "        else:\n",
    "            traversed_flag = False\n",
    "            main_dict = dict()\n",
    "            for num in nums:\n",
    "                if num in main_dict:\n",
    "                    main_dict[num] = main_dict[num] + 1\n",
    "                    if main_dict[num] > len(nums)//2:\n",
    "                        traversed_flag = True\n",
    "                        return num\n",
    "                else:\n",
    "                    main_dict[num] = 1\n",
    "\n",
    "            if not traversed_flag:\n",
    "                return -1\n",
    "        \n",
    "if __name__ == '__main__':\n",
    "        \n",
    "    sol = Solution()\n",
    "    print(sol.majorityElement([2,2]))"
   ]
  },
  {
   "cell_type": "markdown",
   "metadata": {},
   "source": [
    "### 10. Plus One"
   ]
  },
  {
   "cell_type": "markdown",
   "metadata": {},
   "source": [
    "Given a non-empty array of digits representing a non-negative integer, increment one to the integer.\n",
    "\n",
    "The digits are stored such that the most significant digit is at the head of the list, and each element in the array contains a single digit.\n",
    "\n",
    "You may assume the integer does not contain any leading zero, except the number 0 itself.\n",
    "\n",
    "Example 1:<br>\n",
    "\n",
    "Input: [1,2,3]<br>\n",
    "Output: [1,2,4]<br>\n",
    "Explanation: The array represents the integer 123.<br>\n",
    "Example 2:<br>\n",
    "\n",
    "Input: [4,3,2,1]<br>\n",
    "Output: [4,3,2,2]<br>\n",
    "Explanation: The array represents the integer 4321.<br>"
   ]
  },
  {
   "cell_type": "code",
   "execution_count": 37,
   "metadata": {},
   "outputs": [
    {
     "name": "stdout",
     "output_type": "stream",
     "text": [
      "[2, 0, 0, 0]\n"
     ]
    }
   ],
   "source": [
    "class Solution:\n",
    "    def plusOne(self, digits):\n",
    "        \"\"\"\n",
    "        :type digits: List[int]\n",
    "        :rtype: List[int]\n",
    "        \"\"\"\n",
    "        s = ''\n",
    "        for num in digits:\n",
    "            s = s + str(num)\n",
    "        \n",
    "        s = str(int(s)+1)\n",
    "        return [int(i) for i in s]\n",
    "        \n",
    "        \n",
    "if __name__ == '__main__':\n",
    "        \n",
    "    sol = Solution()\n",
    "    print(sol.plusOne([1,9,9,9]))"
   ]
  },
  {
   "cell_type": "markdown",
   "metadata": {},
   "source": [
    "### 11. Find All Numbers Disappeared in an Array"
   ]
  },
  {
   "cell_type": "markdown",
   "metadata": {},
   "source": [
    "\n",
    "Given an array of integers where 1 ≤ a[i] ≤ n (n = size of array), some elements appear twice and others appear once.\n",
    "\n",
    "Find all the elements of [1, n] inclusive that do not appear in this array.\n",
    "\n",
    "Could you do it without extra space and in O(n) runtime? You may assume the returned list does not count as extra space.\n",
    "\n",
    "Example:\n",
    "\n",
    "Input:\n",
    "[4,3,2,7,8,2,3,1]\n",
    "\n",
    "Output:\n",
    "[5,6]"
   ]
  },
  {
   "cell_type": "code",
   "execution_count": 85,
   "metadata": {},
   "outputs": [
    {
     "name": "stdout",
     "output_type": "stream",
     "text": [
      "[5, 6]\n"
     ]
    }
   ],
   "source": [
    "class Solution:\n",
    "    \n",
    "    def findDisappearedNumbersList(self, nums):\n",
    "        \"\"\"\n",
    "        :type nums: List[int]\n",
    "        :rtype: List[int]\n",
    "        \"\"\"\n",
    "        if not nums:\n",
    "            return []\n",
    "        if len(nums) == 1:\n",
    "            return [nums[0]]\n",
    "        \n",
    "        res = []\n",
    "        \n",
    "        for i in range(1, len(nums)+1):\n",
    "            if i not in nums:\n",
    "                res.append(i)\n",
    "        \n",
    "        return res\n",
    "            \n",
    "    def findDisappearedNumbersDict(self, nums):\n",
    "        \"\"\"\n",
    "        :type nums: List[int]\n",
    "        :rtype: List[int]\n",
    "        \"\"\"\n",
    "        if not nums:\n",
    "            return []\n",
    "        if len(nums) == 1:\n",
    "            return [nums[0]]\n",
    "        \n",
    "        res = []\n",
    "        main_dict = dict()\n",
    "        for num in nums:\n",
    "            main_dict[num] = main_dict.get(num, 0)\n",
    "            \n",
    "        for i in range(1, len(nums)+1):\n",
    "            if i not in main_dict:\n",
    "                res.append(i)\n",
    "        \n",
    "        return res  \n",
    "            \n",
    "\n",
    "                    \n",
    "if __name__ == '__main__':\n",
    "        \n",
    "    sol = Solution()\n",
    "    print(sol.findDisappearedNumbersList([4,3,2,7,8,2,3,1]))"
   ]
  },
  {
   "cell_type": "markdown",
   "metadata": {},
   "source": [
    "### 12. Degree of an array"
   ]
  },
  {
   "cell_type": "markdown",
   "metadata": {},
   "source": [
    "Given a non-empty array of non-negative integers nums, the degree of this array is defined as the maximum frequency of any one of its elements.\n",
    "\n",
    "Your task is to find the smallest possible length of a (contiguous) subarray of nums, that has the same degree as nums.\n",
    "\n",
    " \n",
    "\n",
    "Example 1: <br>\n",
    "\n",
    "Input: nums = [1,2,2,3,1]<br>\n",
    "Output: 2<br>\n",
    "Explanation: <br>\n",
    "The input array has a degree of 2 because both elements 1 and 2 appear twice.<br>\n",
    "Of the subarrays that have the same degree:<br>\n",
    "[1, 2, 2, 3, 1], [1, 2, 2, 3], [2, 2, 3, 1], [1, 2, 2], [2, 2, 3], [2, 2]<br>\n",
    "The shortest length is 2. So return 2.<br>\n",
    "Example 2:<br>\n",
    "<br>\n",
    "Input: nums = [1,2,2,3,1,4,2]<br>\n",
    "Output: 6<br>\n",
    "Explanation: <br>\n",
    "The degree is 3 because the element 2 is repeated 3 times.<br>\n",
    "So [2,2,3,1,4,2] is the shortest subarray, therefore returning 6.<br>"
   ]
  },
  {
   "cell_type": "code",
   "execution_count": null,
   "metadata": {},
   "outputs": [],
   "source": [
    "class Solution:\n",
    "    def findShortestSubArray(self, nums):\n",
    "        \"\"\"\n",
    "        :type nums: List[int]\n",
    "        :rtype: int\n",
    "        \"\"\"\n",
    "        \n",
    "\n",
    "if __name__ == '__main__':\n",
    "        \n",
    "    sol = Solution()\n",
    "    print(sol.findShortestSubArray([1,2,3,4,6]))"
   ]
  },
  {
   "cell_type": "markdown",
   "metadata": {},
   "source": [
    "### 13.Google Word Extensions (Google On-Site)"
   ]
  },
  {
   "cell_type": "markdown",
   "metadata": {},
   "source": [
    "When people send messages on their phones they sometimes modify word spelling by adding extra letters for emphasis. For example, if you want to emphasize hello you might write it hellloooooooo. Let's call the ls and the os word extensions. Regular text contains 2 or fewer of the same character in a row, while word extensions have 3 or more of the same character in a row. Given an input string representing one word, write a method that returns the start and end indices of all extensions in the word.\n",
    "https://leetcode.com/problems/positions-of-large-groups\n",
    "\n",
    "Example 1: <br>\n",
    "\n",
    "Input: \"whaaaaatttsup\" <br>\n",
    "Output: [[2, 6], [7, 9]]<br>\n",
    "Explanation: <br>\n",
    "\"aaaaa\" and \"ttt\" are twitching letters, so output their starting and ending points.<br>\n",
    "Example 2:<br>\n",
    "\n",
    "Input: \"hellloooooooo\"<br>\n",
    "Output: [[2, 4], [5, 12]]<br> <br>\n",
    "Follow-up:<br>\n",
    "Now we want to spell-check extended words. You are given a dictionary of words. Implement method isExtendedDictionaryWord that will return:<br>\n",
    "\n",
    "true if it is a dictionary word.<br>\n",
    "true if you collapse the extensions in the word and it is a dictionary word.<br>\n",
    "false otherwise.<br> <br>\n",
    "class SpellChecker {\n",
    "\tpublic SpellChecker(List<String> dict) {\n",
    "\t}\n",
    "\n",
    "\tpublic boolean isExtendedDictionaryWord(String s) {\n",
    "\t}\n",
    "}"
   ]
  },
  {
   "cell_type": "markdown",
   "metadata": {},
   "source": [
    "### 14. Jewel and Stones"
   ]
  },
  {
   "cell_type": "markdown",
   "metadata": {},
   "source": [
    "You're given strings J representing the types of stones that are jewels, and S representing the stones you have.  Each character in S is a type of stone you have.  You want to know how many of the stones you have are also jewels.\n",
    "\n",
    "The letters in J are guaranteed distinct, and all characters in J and S are letters. Letters are case sensitive, so \"a\" is considered a different type of stone from \"A\".\n",
    "\n",
    "Example 1: <br>\n",
    "\n",
    "Input: J = \"aA\", S = \"aAAbbbb\"<br>\n",
    "Output: 3<br>\n",
    "Example 2:<br><br>\n",
    "\n",
    "Input: J = \"z\", S = \"ZZ\"<br>\n",
    "Output: 0<br>\n",
    "Note:<br>\n",
    "<br><br>\n",
    "S and J will consist of letters and have length at most 50.<br>\n",
    "The characters in J are distinct."
   ]
  },
  {
   "cell_type": "code",
   "execution_count": 6,
   "metadata": {},
   "outputs": [
    {
     "name": "stdout",
     "output_type": "stream",
     "text": [
      "3\n"
     ]
    }
   ],
   "source": [
    "class Solution:\n",
    "    def numJewelsInStonesNaive(self, J, S):\n",
    "        \"\"\"\n",
    "        :type J: str\n",
    "        :type S: str\n",
    "        :rtype: int\n",
    "        \"\"\"\n",
    "        no_of_jewels = 0\n",
    "        for stone in S:\n",
    "            if stone in J:\n",
    "                no_of_jewels += 1\n",
    "        \n",
    "        return no_of_jewels\n",
    "    \n",
    "    def numJewelsInStones(self, J, S):\n",
    "        \"\"\"\n",
    "        :type J: str\n",
    "        :type S: str\n",
    "        :rtype: int\n",
    "        \"\"\"\n",
    "        no_of_jewels = 0\n",
    "        main_dict = {}\n",
    "        for jewel in J:\n",
    "            main_dict[jewel] = 0\n",
    "        \n",
    "        for stone in S:\n",
    "            if stone in main_dict:\n",
    "                no_of_jewels += 1\n",
    "        \n",
    "        return no_of_jewels\n",
    "    \n",
    "    \n",
    "\n",
    "        \n",
    "if __name__ == '__main__':\n",
    "        \n",
    "    sol = Solution()\n",
    "    print(sol.numJewelsInStones(J = \"aA\", S = \"aAAbbbb\"))"
   ]
  },
  {
   "cell_type": "markdown",
   "metadata": {},
   "source": [
    "### 15. Word Pattern"
   ]
  },
  {
   "cell_type": "markdown",
   "metadata": {},
   "source": [
    "Given a pattern and a string str, find if str follows the same pattern. <br>\n",
    "\n",
    "Here follow means a full match, such that there is a bijection between a letter in pattern and a non-empty word in str.\n",
    "\n",
    "Example 1: <br> <br>\n",
    "\n",
    "Input: pattern = \"abba\", string = \"dog cat cat dog\" <br>\n",
    "Output: true <br>\n",
    "Example 2: <br> <br>\n",
    "\n",
    "Input:pattern = \"abba\", string = \"dog cat cat fish\" <br>\n",
    "Output: false <br>\n",
    "Example 3: <br> <br>\n",
    "\n",
    "Input: pattern = \"aaaa\", string = \"dog cat cat dog\" <br>\n",
    "Output: false <br>\n",
    "Example 4: <br> <br>\n",
    "\n",
    "Input: pattern = \"abba\", string = \"dog dog dog dog\" <br>\n",
    "Output: false <br>\n",
    "Notes: <br>\n",
    "You may assume pattern contains only lowercase letters, and str contains lowercase letters that may be separated by a single space."
   ]
  },
  {
   "cell_type": "code",
   "execution_count": 52,
   "metadata": {},
   "outputs": [
    {
     "name": "stdout",
     "output_type": "stream",
     "text": [
      "True\n",
      "False\n",
      "False\n",
      "False\n"
     ]
    }
   ],
   "source": [
    "class Solution:\n",
    "    def wordPatternPoorCode(self, pattern, string):\n",
    "        \"\"\"\n",
    "        :type pattern: str\n",
    "        :type str: str\n",
    "        :rtype: bool\n",
    "        \"\"\"\n",
    "        main_dict = dict()\n",
    "        reference_dict = dict()\n",
    "        string_array = string.split(\" \")\n",
    "        if len(pattern) != len(string_array) or not string or not pattern:\n",
    "            return False\n",
    "            \n",
    "        for index, patt in enumerate(pattern):\n",
    "            if patt not in main_dict:\n",
    "                if string_array[index] not in reference_dict:\n",
    "                    reference_dict[string_array[index]] = 0\n",
    "                    main_dict[patt] = string_array[index]\n",
    "                else:\n",
    "                    return False\n",
    "            else:\n",
    "                if main_dict[patt] != string_array[index]:\n",
    "                    return False\n",
    "        \n",
    "        return True\n",
    "        \n",
    "    def wordPattern(self, pattern, string):\n",
    "        \"\"\"\n",
    "        :type pattern: str\n",
    "        :type str: str\n",
    "        :rtype: bool\n",
    "        \"\"\"\n",
    "\n",
    "if __name__ == '__main__':\n",
    "        \n",
    "    sol = Solution()\n",
    "    print(sol.wordPatternPoorCode(pattern = \"abba\", string = \"dog cat cat dog\"))\n",
    "    print(sol.wordPatternPoorCode(pattern = \"abba\", string = \"dog cat cat fish\"))\n",
    "    print(sol.wordPatternPoorCode(pattern = \"aaaa\", string = \"dog cat cat dog\"))\n",
    "    print(sol.wordPatternPoorCode(pattern = \"abba\", string = \"dog dog dog dog\"))"
   ]
  },
  {
   "cell_type": "markdown",
   "metadata": {},
   "source": [
    "### 16. Count Primes"
   ]
  },
  {
   "cell_type": "markdown",
   "metadata": {},
   "source": [
    "Count the number of prime numbers less than a non-negative number, n.\n",
    "\n",
    "Example:<br><br>\n",
    "\n",
    "Input: 10<br>\n",
    "Output: 4<br>\n",
    "Explanation: There are 4 prime numbers less than 10, they are 2, 3, 5, 7."
   ]
  },
  {
   "cell_type": "code",
   "execution_count": 56,
   "metadata": {},
   "outputs": [
    {
     "name": "stdout",
     "output_type": "stream",
     "text": [
      "4\n"
     ]
    }
   ],
   "source": [
    "class Solution(object):\n",
    "    def countPrimes(self, n):\n",
    "        \"\"\"\n",
    "        :type n: int\n",
    "        :rtype: int\n",
    "        \"\"\"\n",
    "        if n < 2:\n",
    "            return 0\n",
    "        else:\n",
    "            primes=[True]*n\n",
    "            primes[0]=primes[1]=False  \n",
    "            for num in range(2,n):\n",
    "                if primes[num]:\n",
    "                    primes[2*num:n:num]=[False]*((n-1)//num-1)\n",
    "            return sum(primes)\n",
    "        \n",
    "if __name__ == '__main__':\n",
    "        \n",
    "    sol = Solution()\n",
    "    print(sol.countPrimes(10))"
   ]
  },
  {
   "cell_type": "markdown",
   "metadata": {},
   "source": [
    "### 17. Longest Substring Without Repeating Characters"
   ]
  },
  {
   "cell_type": "markdown",
   "metadata": {},
   "source": [
    "Given a string, find the length of the longest substring without repeating characters.\n",
    "\n",
    "Example 1: <br><br>\n",
    "\n",
    "Input: \"abcabcbb\"<br>\n",
    "Output: 3 <br>\n",
    "Explanation: The answer is \"abc\", with the length of 3. <br>\n",
    "Example 2:<br><br>\n",
    "\n",
    "Input: \"bbbbb\"<br>\n",
    "Output: 1<br>\n",
    "Explanation: The answer is \"b\", with the length of 1.<br>\n",
    "Example 3:<br><br>\n",
    "\n",
    "Input: \"pwwkew\"<br>\n",
    "Output: 3<br>\n",
    "Explanation: The answer is \"wke\", with the length of 3. <br>\n",
    "             Note that the answer must be a substring, \"pwke\" is a subsequence and not a substring."
   ]
  },
  {
   "cell_type": "code",
   "execution_count": 123,
   "metadata": {},
   "outputs": [
    {
     "name": "stdout",
     "output_type": "stream",
     "text": [
      "1\n"
     ]
    }
   ],
   "source": [
    "class Solution:\n",
    "    def lengthOfLongestSubstringNaive(self, s):\n",
    "        \"\"\"\n",
    "        :type s: str\n",
    "        :rtype: int\n",
    "        \"\"\"\n",
    "        if len(s) < 2:\n",
    "            return len(s)\n",
    "        \n",
    "        max_length = 0\n",
    "        substr = ''\n",
    "        \n",
    "        for index, letter in enumerate(s):\n",
    "            \n",
    "            if letter not in substr:\n",
    "                substr += letter\n",
    "            else:\n",
    "                if max_length > 0 and max_length < len(substr):\n",
    "                    max_length = len(substr)\n",
    "                elif max_length == 0:\n",
    "                    max_length = len(substr)\n",
    "                substr = letter\n",
    "                \n",
    "            if index == len(substr) - 1 and len(substr) == len(s):\n",
    "                return len(s)\n",
    "            \n",
    "        return(max_length)\n",
    "    \n",
    "if __name__ == '__main__':\n",
    "        \n",
    "    sol = Solution()\n",
    "    print(sol.lengthOfLongestSubstringNaive('aab'))"
   ]
  },
  {
   "cell_type": "markdown",
   "metadata": {},
   "source": [
    "### 18. Happy Number"
   ]
  },
  {
   "cell_type": "markdown",
   "metadata": {},
   "source": [
    "Write an algorithm to determine if a number n is \"happy\". <br>\n",
    "\n",
    "A happy number is a number defined by the following process: Starting with any positive integer, replace the number by the sum of the squares of its digits, and repeat the process until the number equals 1 (where it will stay), or it loops endlessly in a cycle which does not include 1. Those numbers for which this process ends in 1 are happy numbers.<br>\n",
    "\n",
    "Return True if n is a happy number, and False if not.<br>\n",
    "\n",
    "Example: <br>\n",
    "<br>\n",
    "Input: 19<br>\n",
    "Output: true<br>\n",
    "Explanation: <br>\n",
    "12 + 92 = 82<br>\n",
    "82 + 22 = 68<br>\n",
    "62 + 82 = 100<br>\n",
    "12 + 02 + 02 = 1<br>"
   ]
  },
  {
   "cell_type": "markdown",
   "metadata": {},
   "source": [
    "Why recusrion did not work"
   ]
  },
  {
   "cell_type": "code",
   "execution_count": 62,
   "metadata": {},
   "outputs": [
    {
     "name": "stdout",
     "output_type": "stream",
     "text": [
      "82\n"
     ]
    }
   ],
   "source": [
    "class Solution:\n",
    "    def isHappyRecursion(self, n):\n",
    "        \"\"\"\n",
    "        :type n: int\n",
    "        :rtype: bool\n",
    "        \"\"\"\n",
    "        n = str(n)\n",
    "        square = 0\n",
    "        for num in n:\n",
    "            square += int(num)**2\n",
    "        \n",
    "        if square == 1:\n",
    "            return True\n",
    "        else:\n",
    "            self.isHappy(square)\n",
    "    \n",
    "#     def isHappy(self, n: int) -> bool:\n",
    "\n",
    "    def isHappy(self, n):\n",
    "        total_sum = 0\n",
    "        while n > 0:\n",
    "            n, digit = divmod(n, 10)\n",
    "            total_sum += digit ** 2\n",
    "        return total_sum\n",
    "\n",
    "        seen = set()\n",
    "        while n != 1 and n not in seen:\n",
    "            seen.add(n)\n",
    "            n = isHappy(n)\n",
    "\n",
    "\n",
    "        return n == 1\n",
    "            \n",
    "if __name__ == '__main__':\n",
    "        \n",
    "    sol = Solution()\n",
    "    print(sol.isHappy(19))"
   ]
  },
  {
   "cell_type": "markdown",
   "metadata": {},
   "source": [
    "### 19. Isomorphic Strings"
   ]
  },
  {
   "cell_type": "markdown",
   "metadata": {},
   "source": [
    "Given two strings s and t, determine if they are isomorphic. <br>\n",
    "\n",
    "Two strings are isomorphic if the characters in s can be replaced to get t.<br>\n",
    "\n",
    "All occurrences of a character must be replaced with another character while preserving the order of characters. No two characters may map to the same character but a character may map to itself.<br>\n",
    "<br>\n",
    "Example 1:<br><br>\n",
    "\n",
    "Input: s = \"egg\", t = \"add\"<br>\n",
    "Output: true<br>\n",
    "Example 2:<br>\n",
    "\n",
    "Input: s = \"foo\", t = \"bar\"<br>\n",
    "Output: false<br>\n",
    "Example 3:<br>\n",
    "\n",
    "Input: s = \"paper\", t = \"title\"<br>\n",
    "Output: true<br>\n",
    "Note:<br>\n",
    "You may assume both s and t have the same length.<br>"
   ]
  },
  {
   "cell_type": "code",
   "execution_count": 59,
   "metadata": {},
   "outputs": [
    {
     "name": "stdout",
     "output_type": "stream",
     "text": [
      "True\n"
     ]
    }
   ],
   "source": [
    "class Solution:\n",
    "    def isIsomorphic(self, s, t):\n",
    "        \"\"\"\n",
    "        :type s: str\n",
    "        :type t: str\n",
    "        :rtype: bool\n",
    "        \"\"\"\n",
    "        main_dict = dict()\n",
    "        seen = dict()\n",
    "        \n",
    "        for index, str1 in enumerate(s):\n",
    "            if str1 not in main_dict:\n",
    "                if t[index] not in seen:\n",
    "                    main_dict[str1] = t[index]\n",
    "                    seen[t[index]]= 0\n",
    "                else:\n",
    "                    return False\n",
    "            elif main_dict[str1] != t[index]:\n",
    "                return False\n",
    "        \n",
    "        return True\n",
    "    \n",
    "if __name__ == '__main__':\n",
    "        \n",
    "    sol = Solution()\n",
    "    print(sol.isIsomorphic('ab', 'ac'))"
   ]
  },
  {
   "cell_type": "markdown",
   "metadata": {},
   "source": [
    "### 20. Hand of straight"
   ]
  },
  {
   "cell_type": "markdown",
   "metadata": {},
   "source": [
    "Alice has a hand of cards, given as an array of integers.\n",
    "\n",
    "Now she wants to rearrange the cards into groups so that each group is size W, and consists of W consecutive cards.\n",
    "\n",
    "Return true if and only if she can.\n",
    "\n",
    " \n",
    "\n",
    "Example 1: <br>\n",
    "\n",
    "Input: hand = [1,2,3,6,2,3,4,7,8], W = 3<br>\n",
    "Output: true<br>\n",
    "Explanation: Alice's hand can be rearranged as [1,2,3],[2,3,4],[6,7,8].<br>\n",
    "Example 2:<br>\n",
    "\n",
    "Input: hand = [1,2,3,4,5], W = 4<br>\n",
    "Output: false<br>\n",
    "Explanation: Alice's hand can't be rearranged into groups of 4.<br>\n",
    " \n",
    "\n",
    "Constraints:<br><br>\n",
    "\n",
    "1 <= hand.length <= 10000<br>\n",
    "0 <= hand[i] <= 10^9<br>\n",
    "1 <= W <= hand.length<br>\n",
    "Note: This question is the same as 1296: https://leetcode.com/problems/divide-array-in-sets-of-k-consecutive-numbers/"
   ]
  },
  {
   "cell_type": "code",
   "execution_count": null,
   "metadata": {},
   "outputs": [],
   "source": [
    "class Solution(object):\n",
    "    def isNStraightHand(self, hand, W):\n",
    "        \"\"\"\n",
    "        :type hand: List[int]\n",
    "        :type W: int\n",
    "        :rtype: bool\n",
    "        \"\"\"\n",
    "\n",
    "if __name__ == '__main__':\n",
    "        \n",
    "    sol = Solution()\n",
    "    print(sol.isNStraightHand(hand = [1,2,3,6,2,3,4,7,8], W = 3))"
   ]
  },
  {
   "cell_type": "markdown",
   "metadata": {},
   "source": [
    "### 21. Single Number\n",
    "\n",
    "Given a non-empty array of integers, every element appears twice except for one. Find that single one.<br>\n",
    "\n",
    "Note:<br>\n",
    "\n",
    "Your algorithm should have a linear runtime complexity. Could you implement it without using extra memory?<br>\n",
    "\n",
    "Example 1: <br>\n",
    "\n",
    "Input: [2,2,1]<br>\n",
    "Output: 1<br>\n",
    "Example 2:<br><br>\n",
    "\n",
    "Input: [4,1,2,1,2]<br>\n",
    "Output: 4<br>"
   ]
  },
  {
   "cell_type": "code",
   "execution_count": 127,
   "metadata": {},
   "outputs": [
    {
     "name": "stdout",
     "output_type": "stream",
     "text": [
      "4\n"
     ]
    }
   ],
   "source": [
    "class Solution:\n",
    "    def singleNumberNaive(self, nums):\n",
    "        \"\"\"\n",
    "        :type nums: List[int]\n",
    "        :rtype: int\n",
    "        \"\"\"\n",
    "        if not nums:\n",
    "            return -1\n",
    "        nums_set = set(nums)\n",
    "        for num in nums_set:\n",
    "            if nums.count(num) == 1:\n",
    "                return num\n",
    "        return -1\n",
    "    \n",
    "    def singleNumberNaive1(self, nums):\n",
    "        \"\"\"\n",
    "        :type nums: List[int]\n",
    "        :rtype: int\n",
    "        \"\"\"\n",
    "        main_dict = dict()\n",
    "        for num in nums:\n",
    "            if num not in main_dict:\n",
    "                main_dict[num] = 1\n",
    "            else:\n",
    "                main_dict[num] += 1\n",
    "\n",
    "        sorted_main_dict = {k: v for k, v in sorted(main_dict.items(), key=lambda item: item[1])}\n",
    "        \n",
    "        if sorted_main_dict[next(iter(sorted_main_dict))] == 1:\n",
    "            return next(iter(sorted_main_dict))\n",
    "        else:\n",
    "            return -1\n",
    "    \n",
    "    def singleNumberNaive2(self, nums):\n",
    "        \"\"\"\n",
    "        :type nums: List[int]\n",
    "        :rtype: int\n",
    "        \"\"\"\n",
    "        nums = sorted(nums)\n",
    "        continueStack = True\n",
    "        \n",
    "        while continueStack:\n",
    "            popped = nums.pop()\n",
    "            \n",
    "            if len(nums) == 0 or popped != nums[-1]:\n",
    "                return popped\n",
    "            \n",
    "            elif popped == nums[-1]:\n",
    "                del nums[-1]\n",
    "                \n",
    "        return popped\n",
    "    \n",
    "    def singleNumber(self, nums):\n",
    "        \"\"\"\n",
    "        :type nums: List[int]\n",
    "        :rtype: int\n",
    "        \"\"\"\n",
    "        main_dict = dict()\n",
    "        for num in nums:\n",
    "            if num not in main_dict:\n",
    "                main_dict[num] = 1\n",
    "            else:\n",
    "                main_dict[num] += 1\n",
    "\n",
    "        for num in main_dict:\n",
    "            if main_dict[num] == 1:\n",
    "                return num\n",
    "        \n",
    "        return -1\n",
    "    \n",
    "if __name__ == '__main__':\n",
    "    sol = Solution()\n",
    "    print(sol.singleNumber([4,1,2,1,2]))"
   ]
  },
  {
   "cell_type": "markdown",
   "metadata": {},
   "source": [
    "### 22. Find Common Characters\n",
    "\n",
    "Given an array A of strings made only from lowercase letters, return a list of all characters that show up in all strings within the list (including duplicates).  For example, if a character occurs 3 times in all strings but not 4 times, you need to include that character three times in the final answer.\n",
    "\n",
    "You may return the answer in any order.\n",
    "\n",
    " \n",
    "\n",
    "Example 1: <br> <br>\n",
    "\n",
    "Input: [\"bella\",\"label\",\"roller\"]<br>\n",
    "Output: [\"e\",\"l\",\"l\"]<br>\n",
    "Example 2:<br>\n",
    "<br>\n",
    "Input: [\"cool\",\"lock\",\"cook\"]<br>\n",
    "Output: [\"c\",\"o\"]<br>\n",
    " \n",
    "\n",
    "Note:\n",
    "\n",
    "1 <= A.length <= 100<br>\n",
    "1 <= A[i].length <= 100<br>\n",
    "A[i][j] is a lowercase letter<br>"
   ]
  },
  {
   "cell_type": "code",
   "execution_count": 128,
   "metadata": {},
   "outputs": [
    {
     "name": "stdout",
     "output_type": "stream",
     "text": [
      "None\n"
     ]
    }
   ],
   "source": [
    "class Solution:\n",
    "    def commonChars(self, A):\n",
    "        \"\"\"\n",
    "        :type A: List[str]\n",
    "        :rtype: List[str]\n",
    "        \"\"\"\n",
    "        main_dict = dict()\n",
    "        for word in A[0]:\n",
    "            if word not in main_dict:\n",
    "                main_dict[word] = 1\n",
    "            else:\n",
    "                main_dict[word] = main_dict[word] + 1\n",
    "\n",
    "if __name__ == '__main__':\n",
    "    sol = Solution()\n",
    "    print(sol.commonChars([\"bella\",\"label\",\"roller\"]))"
   ]
  },
  {
   "cell_type": "markdown",
   "metadata": {},
   "source": [
    "### 23. Daily Temperature\n",
    "\n",
    "Given a list of daily temperatures T, return a list such that, for each day in the input, tells you how many days you would have to wait until a warmer temperature. <br>If there is no future day for which this is possible, put 0 instead.\n",
    "\n",
    "For example, given the list of temperatures T = [73, 74, 75, 71, 69, 72, 76, 73], your output should be [1, 1, 4, 2, 1, 1, 0, 0].<br>\n",
    "\n",
    "Note: The length of temperatures will be in the range [1, 30000]. Each temperature will be an integer in the range [30, 100].<br>"
   ]
  },
  {
   "cell_type": "code",
   "execution_count": 7,
   "metadata": {},
   "outputs": [
    {
     "name": "stdout",
     "output_type": "stream",
     "text": [
      "[1, 1, 4, 2, 1, 1, 0, 0]\n"
     ]
    }
   ],
   "source": [
    "class Solution:\n",
    "    def dailyTemperaturesNaive(self, T):\n",
    "        \"\"\"\n",
    "        :type T: List[int]\n",
    "        :rtype: List[int]\n",
    "        \"\"\"\n",
    "        res = []\n",
    "        for temp_index, temp in enumerate(T):\n",
    "            counter = 0\n",
    "            temp_increased = False\n",
    "            for difference_checker in range(temp_index+1, len(T)):\n",
    "                counter += 1\n",
    "                if T[difference_checker] > temp:\n",
    "                    res.append(counter)\n",
    "                    temp_increased = True\n",
    "                    break\n",
    "                    \n",
    "            if not temp_increased:\n",
    "                res.append(0)\n",
    "        \n",
    "        return res\n",
    "    \n",
    "    def dailyTemperatures(self, T):\n",
    "        \"\"\"\n",
    "        :type T: List[int]\n",
    "        :rtype: List[int]\n",
    "        \"\"\"\n",
    "        stack = []\n",
    "        ans = [0] * len(T)\n",
    "\n",
    "        for i in range(len(T)):\n",
    "            while stack and T[i] > T[stack[-1]]:\n",
    "                j = stack.pop()\n",
    "                ans[j] = i-j\n",
    "            stack.append(i)\n",
    "\n",
    "        return ans\n",
    "        \n",
    "\n",
    "\n",
    "if __name__ == '__main__':\n",
    "    sol = Solution()\n",
    "    print(sol.dailyTemperatures( [73, 74, 75, 71, 69, 72, 76, 73]))"
   ]
  },
  {
   "cell_type": "markdown",
   "metadata": {},
   "source": [
    "### 24. First Unique Character in a String\n",
    "\n",
    "Given a string, find the first non-repeating character in it and return its index. If it doesn't exist, return -1.\n",
    "\n",
    "Examples: <br>\n",
    "\n",
    "s = \"leetcode\"<br>\n",
    "return 0.<br>\n",
    "<br>\n",
    "s = \"loveleetcode\"<br>\n",
    "return 2.<br>"
   ]
  },
  {
   "cell_type": "code",
   "execution_count": 18,
   "metadata": {},
   "outputs": [
    {
     "name": "stdout",
     "output_type": "stream",
     "text": [
      "2\n"
     ]
    }
   ],
   "source": [
    "from collections import OrderedDict, Counter\n",
    "\n",
    "class Solution:\n",
    "    def firstUniqCharnaive(self, s):\n",
    "        \"\"\"\n",
    "        :type s: str\n",
    "        :rtype: int\n",
    "        \"\"\"\n",
    "        word_list = list(s)\n",
    "        main_dict = OrderedDict()\n",
    "        for index, string in enumerate(s):\n",
    "            if string in main_dict:\n",
    "                main_dict[string][0] = main_dict[string][0] + 1\n",
    "            else:\n",
    "                main_dict[string] = [1, index]\n",
    "        \n",
    "        for item in main_dict:\n",
    "            if main_dict[item][0] == 1:\n",
    "                return main_dict[item][1]\n",
    "        \n",
    "        return -1\n",
    "    \n",
    "    def firstUniqCharFast(self, s):\n",
    "        \"\"\"\n",
    "        :type s: str\n",
    "        :rtype: int\n",
    "        \"\"\"\n",
    "        counted_letters = Counter(s)\n",
    "        \n",
    "        for index, letter in enumerate(s):\n",
    "            if counted_letters[letter] == 1:\n",
    "                return index\n",
    "        \n",
    "        return -1\n",
    "\n",
    "if __name__ == '__main__':\n",
    "    sol = Solution()\n",
    "    print(sol.firstUniqCharFast(s = \"loveleetcode\"))"
   ]
  },
  {
   "cell_type": "markdown",
   "metadata": {},
   "source": [
    "### 25. Sort Characters By Frequency\n",
    "\n",
    "Given a string, sort it in decreasing order based on the frequency of characters. <br>\n",
    "\n",
    "Example 1: <br>\n",
    "\n",
    "Input: <br>\n",
    "\"tree\" <br>\n",
    "\n",
    "Output: <br>\n",
    "\"eert\" <br>\n",
    "\n",
    "Explanation: <br>\n",
    "'e' appears twice while 'r' and 't' both appear once. <br>\n",
    "So 'e' must appear before both 'r' and 't'. Therefore \"eetr\" is also a valid answer. <br>\n",
    "Example 2: <br>\n",
    "\n",
    "Input: <br>\n",
    "\"cccaaa\" <br>\n",
    "\n",
    "Output: <br>\n",
    "\"cccaaa\" <br>\n",
    "\n",
    "Explanation: <br>\n",
    "Both 'c' and 'a' appear three times, so \"aaaccc\" is also a valid answer. <br>\n",
    "Note that \"cacaca\" is incorrect, as the same characters must be together. <br>\n",
    "Example 3: <br>\n",
    "\n",
    "Input: <br>\n",
    "\"Aabb\" <br>\n",
    "\n",
    "Output: <br>\n",
    "\"bbAa\" <br>\n",
    "\n",
    "Explanation: <br>\n",
    "\"bbaA\" is also a valid answer, but \"Aabb\" is incorrect. <br>\n",
    "Note that 'A' and 'a' are treated as two different characters. <br>"
   ]
  },
  {
   "cell_type": "code",
   "execution_count": 30,
   "metadata": {},
   "outputs": [
    {
     "name": "stdout",
     "output_type": "stream",
     "text": [
      "bbAa\n"
     ]
    }
   ],
   "source": [
    "from collections import Counter\n",
    "\n",
    "class Solution:\n",
    "    def frequencySortNaive(self, s):\n",
    "        \"\"\"\n",
    "        :type s: str\n",
    "        :rtype: str\n",
    "        \"\"\"\n",
    "        main_dict = Counter(s)\n",
    "\n",
    "        main_dict_sorted = {k: v for k, v in sorted(main_dict.items(), key=lambda item: item[1], reverse=True)}\n",
    "        res = ''\n",
    "        for item in main_dict_sorted:\n",
    "            res += item * main_dict_sorted[item]\n",
    "        \n",
    "        return res\n",
    "        \n",
    "        \n",
    "    \n",
    "if __name__ == '__main__':\n",
    "    sol = Solution()\n",
    "    print(sol.frequencySortNaive(s = \"Aabb\"))"
   ]
  },
  {
   "cell_type": "markdown",
   "metadata": {},
   "source": [
    "### 26. Top K Frequent Elements\n",
    "\n",
    "Given a non-empty array of integers, return the k most frequent elements. <br>\n",
    "\n",
    "Example 1: <br> <br>\n",
    "\n",
    "Input: nums = [1,1,1,2,2,3], k = 2 <br>\n",
    "Output: [1,2] <br>\n",
    "Example 2: <br>\n",
    "\n",
    "Input: nums = [1], k = 1 <br>\n",
    "Output: [1] <br>\n",
    "Note: <br> <br>\n",
    "\n",
    "You may assume k is always valid, 1 ≤ k ≤ number of unique elements. <br>\n",
    "Your algorithm's time complexity must be better than O(n log n), where n is the array's size. <br>\n",
    "It's guaranteed that the answer is unique, in other words the set of the top k frequent elements is unique. <br>\n",
    "You can return the answer in any order. <br>"
   ]
  },
  {
   "cell_type": "code",
   "execution_count": 35,
   "metadata": {},
   "outputs": [
    {
     "name": "stdout",
     "output_type": "stream",
     "text": [
      "[1]\n"
     ]
    }
   ],
   "source": [
    "from collections import Counter\n",
    "\n",
    "class Solution(object):\n",
    "    def topKFrequent(self, nums, k):\n",
    "        \"\"\"\n",
    "        :type nums: List[int]\n",
    "        :type k: int\n",
    "        :rtype: List[int]\n",
    "        \"\"\"\n",
    "        main_dict = Counter(nums)\n",
    "        ans_list =  main_dict.most_common(k)\n",
    "        return [ans[0] for ans in ans_list]\n",
    "\n",
    "    \n",
    "if __name__ == '__main__':\n",
    "    sol = Solution()\n",
    "    print(sol.topKFrequent(nums = [1], k = 1))"
   ]
  },
  {
   "cell_type": "code",
   "execution_count": 3,
   "metadata": {},
   "outputs": [
    {
     "name": "stdout",
     "output_type": "stream",
     "text": [
      "alpha\n",
      "beta\n",
      "gamma\n",
      "delta\n",
      "alpha\n",
      "beta\n",
      "gamma\n"
     ]
    }
   ],
   "source": [
    "class Node:\n",
    "\n",
    "    def __init__(self, val=None):\n",
    "        self.val = val\n",
    "        self.next = None\n",
    "\n",
    "\n",
    "class Stack:\n",
    "\n",
    "    def __init__(self):\n",
    "        self.head = None\n",
    "\n",
    "    def printStack(self):\n",
    "        traverse_node = self.head\n",
    "        while traverse_node is not None:\n",
    "            print(traverse_node.val)\n",
    "            traverse_node = traverse_node.next\n",
    "        \n",
    "    def pop(self):\n",
    "        # Traverse becasue you do not know the last node\n",
    "        traverse_node = self.head\n",
    "        while True:\n",
    "            if traverse_node.next.next is None:\n",
    "                traverse_node.next = None\n",
    "                break\n",
    "                \n",
    "            traverse_node = traverse_node.next\n",
    "        \n",
    "        \n",
    "if __name__ == '__main__':\n",
    "    stack = Stack()\n",
    "    stack.head = Node('alpha')\n",
    "    node1 = Node('beta')\n",
    "    node2 = Node('gamma')\n",
    "    node3 = Node('delta')\n",
    "\n",
    "    # Linking the nodes\n",
    "    stack.head.next = node1\n",
    "    node1.next = node2\n",
    "    node2.next = node3\n",
    "    stack.printStack()\n",
    "    stack.pop()\n",
    "    stack.printStack()"
   ]
  },
  {
   "cell_type": "code",
   "execution_count": null,
   "metadata": {},
   "outputs": [],
   "source": [
    "class Node:\n",
    "    \n",
    "    def __init__(self, val):\n",
    "        self.val = val\n",
    "        self.next = None\n",
    "        \n",
    "class Stack:\n",
    "    \n",
    "    def __init__(self):\n",
    "        self.head = None\n",
    "        self.last_node = None\n",
    "        \n",
    "    def printStack(self):\n",
    "        traverse_node = self.head\n",
    "        while traverse_node is not None:\n",
    "                print(traverse_node.val)\n",
    "                \n",
    "    def add(self, node):\n",
    "        \n",
    "    \n",
    "    def pop(self):\n",
    "        traverse_node = self.head\n",
    "        if traverse_node.next is None:\n",
    "            traverse_node.val = None\n",
    "            \n",
    "        traverse_node = traverse_node.next\n",
    "        \n",
    "if __name__ == '__main__':\n",
    "    \n",
    "    stack = Stack()\n",
    "    \n",
    "    node1 = Node('sagnik')\n",
    "    node2 = Node('rana')\n",
    "    node3 = Node('mism')\n",
    "    node4 = Node('bida')\n",
    "    \n",
    "    node1.            "
   ]
  },
  {
   "cell_type": "markdown",
   "metadata": {},
   "source": [
    "### 27. Maximum Subarray\n",
    "\n",
    "Given an integer array nums, find the contiguous subarray (containing at least one number) which has the largest sum and return its sum.\n",
    "\n",
    "Follow up: If you have figured out the O(n) solution, try coding another solution using the divide and conquer approach, which is more subtle.\n",
    "\n",
    " \n",
    "\n",
    "Example 1: <br>\n",
    "\n",
    "Input: nums = [-2,1,-3,4,-1,2,1,-5,4]<br>\n",
    "Output: 6<br>\n",
    "Explanation: [4,-1,2,1] has the largest sum = 6.<br><br>\n",
    "Example 2:<br>\n",
    "\n",
    "Input: nums = [1]\n",
    "Output: 1<br><br>\n",
    "Example 3:\n",
    "\n",
    "Input: nums = [0]\n",
    "Output: 0<br><br>\n",
    "Example 4:\n",
    "\n",
    "Input: nums = [-1]\n",
    "Output: -1<br><br>\n",
    "Example 5:\n",
    "\n",
    "Input: nums = [-2147483647]\n",
    "Output: -2147483647"
   ]
  },
  {
   "cell_type": "code",
   "execution_count": 41,
   "metadata": {},
   "outputs": [
    {
     "name": "stdout",
     "output_type": "stream",
     "text": [
      "73\n"
     ]
    }
   ],
   "source": [
    "import numpy as np\n",
    "class Solution:\n",
    "    def maxSubArray(self, nums):\n",
    "        \n",
    "        maxSum = -np.inf\n",
    "        for stride in range(len(nums)):\n",
    "            \n",
    "            start = 0\n",
    "            end = start+stride+1\n",
    "            \n",
    "            while end<=len(nums):\n",
    "            \n",
    "                if sum(nums[start:end]) > maxSum:\n",
    "                    maxSum = sum(nums[start:end])\n",
    "                start = start+1\n",
    "                end = end+1\n",
    "                \n",
    "        return maxSum\n",
    "    \n",
    "    def maxSubArrayKadaneAlgo(self, nums):\n",
    "        maxSum = -np.inf\n",
    "        currentSum = 0\n",
    "        for num in nums:\n",
    "            currentSum += num\n",
    "            if currentSum > maxSum:\n",
    "                maxSum = currentSum\n",
    "            if currentSum < 0:\n",
    "                currentSum = 0\n",
    "\n",
    "        return maxSum\n",
    "            \n",
    "        \n",
    "    \n",
    "if __name__ == '__main__':\n",
    "    sol = Solution()\n",
    "    print(sol.maxSubArrayKadaneAlgo(nums = [11, -2, -3, 67]))"
   ]
  },
  {
   "cell_type": "markdown",
   "metadata": {},
   "source": [
    "### 28. Nested List Weight Sum\n",
    "\n",
    "Given a nested list of integers, return the sum of all integers in the list weighted by their depth.\n",
    "\n",
    "Each element is either an integer, or a list -- whose elements may also be integers or other lists.\n",
    "\n",
    "Example 1: <br> <br>\n",
    "\n",
    "Input: [[1,1],2,[1,1]] <br>\n",
    "Output: 10  <br>\n",
    "Explanation: Four 1's at depth 2, one 2 at depth 1. <br>\n",
    "Example 2: <br> <br>\n",
    "\n",
    "Input: [1,[4,[6]]] <br>\n",
    "Output: 27  <br>\n",
    "Explanation: One 1 at depth 1, one 4 at depth 2, and one 6 at depth 3; 1 + 4*2 + 6*3 = 27."
   ]
  },
  {
   "cell_type": "markdown",
   "metadata": {},
   "source": [
    "### 29. Design A Leaderboard\n",
    "\n",
    "Design a Leaderboard class, which has 3 functions:\n",
    "\n",
    "addScore(playerId, score): Update the leaderboard by adding score to the given player's score. If there is no player with such id in the leaderboard, add him to the leaderboard with the given score. <br>\n",
    "top(K): Return the score sum of the top K players.<br>\n",
    "reset(playerId): Reset the score of the player with the given id to 0 (in other words erase it from the leaderboard). It is guaranteed that the player was added to the leaderboard before calling this function.\n",
    "Initially, the leaderboard is empty.<br><br>\n",
    "\n",
    " \n",
    "\n",
    "Example 1:<br><br>\n",
    "\n",
    "Input: <br>\n",
    "[\"Leaderboard\",\"addScore\",\"addScore\",\"addScore\",\"addScore\",\"addScore\",\"top\",\"reset\",\"reset\",\"addScore\",\"top\"]\n",
    "[[],[1,73],[2,56],[3,39],[4,51],[5,4],[1],[1],[2],[2,51],[3]]\n",
    "Output: <br>\n",
    "[null,null,null,null,null,null,73,null,null,null,141]\n",
    "\n",
    "Explanation: <br>\n",
    "Leaderboard leaderboard = new Leaderboard ();<br>\n",
    "leaderboard.addScore(1,73);   // leaderboard = [[1,73]];<br>\n",
    "leaderboard.addScore(2,56);   // leaderboard = [[1,73],[2,56]];<br>\n",
    "leaderboard.addScore(3,39);   // leaderboard = [[1,73],[2,56],[3,39]];<br>\n",
    "leaderboard.addScore(4,51);   // leaderboard = [[1,73],[2,56],[3,39],[4,51]];<br>\n",
    "leaderboard.addScore(5,4);    // leaderboard = [[1,73],[2,56],[3,39],[4,51],[5,4]];<br>\n",
    "leaderboard.top(1);           // returns 73;<br>\n",
    "leaderboard.reset(1);         // leaderboard = [[2,56],[3,39],[4,51],[5,4]];<br>\n",
    "leaderboard.reset(2);         // leaderboard = [[3,39],[4,51],[5,4]];<br>\n",
    "leaderboard.addScore(2,51);   // leaderboard = [[2,51],[3,39],[4,51],[5,4]];<br>\n",
    "leaderboard.top(3);           // returns 141 = 51 + 51 + 39;<br>\n",
    " <br>\n",
    "\n",
    "Constraints:<br>\n",
    "\n",
    "1 <= playerId, K <= 10000\n",
    "It's guaranteed that K is less than or equal to the current number of players.\n",
    "1 <= score <= 100\n",
    "There will be at most 1000 function calls."
   ]
  },
  {
   "cell_type": "markdown",
   "metadata": {},
   "source": [
    "### 30. Robot Bounded In Circle\n",
    "\n",
    "On an infinite plane, a robot initially stands at (0, 0) and faces north. The robot can receive one of three instructions:\n",
    "\n",
    "\"G\": go straight 1 unit; <br>\n",
    "\"L\": turn 90 degrees to the left;<br>\n",
    "\"R\": turn 90 degrees to the right.<br>\n",
    "The robot performs the instructions given in order, and repeats them forever.<br>\n",
    "\n",
    "Return true if and only if there exists a circle in the plane such that the robot never leaves the circle.<br><br>\n",
    "\n",
    " \n",
    "\n",
    "Example 1:<br>\n",
    "\n",
    "Input: instructions = \"GGLLGG\"<br>\n",
    "Output: true<br>\n",
    "Explanation: The robot moves from (0,0) to (0,2), turns 180 degrees, and then returns to (0,0).<br>\n",
    "When repeating these instructions, the robot remains in the circle of radius 2 centered at the origin.<br><br>\n",
    "Example 2:<br><br>\n",
    "\n",
    "Input: instructions = \"GG\"<br>\n",
    "Output: false<br>\n",
    "Explanation: The robot moves north indefinitely.<br><br>\n",
    "Example 3:<br><br>\n",
    "<br>\n",
    "Input: instructions = \"GL\"<br>\n",
    "Output: true<br>\n",
    "Explanation: The robot moves from (0, 0) -> (0, 1) -> (-1, 1) -> (-1, 0) -> (0, 0) -> ...<br>\n",
    " \n",
    "<br>\n",
    "Constraints:<br><br>\n",
    "\n",
    "1 <= instructions.length <= 100<br><br>\n",
    "instructions[i] is 'G', 'L' or, 'R'.<br>"
   ]
  },
  {
   "cell_type": "code",
   "execution_count": null,
   "metadata": {},
   "outputs": [],
   "source": [
    "class Solution:\n",
    "\n",
    "    def __init__(self):\n",
    "        self.initial_vector = [0,0]\n",
    "\n",
    "    def isRobotBounded(self, instructions):\n",
    "        \"\"\"\n",
    "        :type instructions: str\n",
    "        :rtype: bool\n",
    "        \"\"\"\n",
    "\n",
    "        initial_vector = [0,0]\n",
    "        \n",
    "    def moveG(self):\n",
    "        pass\n",
    "    \n",
    "    def moveL(self):\n",
    "        pass"
   ]
  },
  {
   "cell_type": "markdown",
   "metadata": {},
   "source": [
    "## Arrays"
   ]
  },
  {
   "cell_type": "markdown",
   "metadata": {},
   "source": [
    "Given an array of integers, return indices of the two numbers such that they add up to a specific target.\n",
    "\n",
    "You may assume that each input would have exactly one solution, and you may not use the same element twice.\n",
    "\n",
    "Example:\n",
    "\n",
    "Given nums = [2, 7, 11, 15], target = 9,\n",
    "\n",
    "Because nums[0] + nums[1] = 2 + 7 = 9,\n",
    "return [0, 1]."
   ]
  },
  {
   "cell_type": "code",
   "execution_count": 25,
   "metadata": {},
   "outputs": [
    {
     "name": "stdout",
     "output_type": "stream",
     "text": [
      "{-3: 3}\n",
      "{-3: 3, 4: -4}\n",
      "[0, 2]\n"
     ]
    }
   ],
   "source": [
    "import numpy as np\n",
    "class Solution:\n",
    "    def twoSum(self, nums, target):\n",
    "        result = []\n",
    "        diff_dict = {}\n",
    "        for index,num in enumerate(nums):\n",
    "            diff = target-num\n",
    "            if num not in diff_dict.values():\n",
    "                diff_dict[num] = target - num\n",
    "                print(diff_dict)\n",
    "            else:\n",
    "                result.append(nums.index(diff))\n",
    "                result.append(index)\n",
    "                return result\n",
    "            \n",
    "    \n",
    "if __name__ == '__main__':\n",
    "    sol = Solution()\n",
    "    print(sol.twoSum(nums = [-3,4,3,90], target = 0))"
   ]
  },
  {
   "cell_type": "markdown",
   "metadata": {},
   "source": [
    "## Sign of a product"
   ]
  },
  {
   "cell_type": "markdown",
   "metadata": {},
   "source": [
    "There is a function signFunc(x) that returns: <br><br>\n",
    "\n",
    "1 if x is positive.<br>\n",
    "-1 if x is negative.<br>\n",
    "0 if x is equal to 0.<br>\n",
    "You are given an integer array nums. Let product be the product of all values in the array nums.<br>\n",
    "\n",
    "Return signFunc(product).<br>"
   ]
  },
  {
   "cell_type": "code",
   "execution_count": 39,
   "metadata": {},
   "outputs": [
    {
     "name": "stdout",
     "output_type": "stream",
     "text": [
      "0\n"
     ]
    }
   ],
   "source": [
    "class Solution:\n",
    "    def signFunc(self, nums):\n",
    "        neg_count = 0\n",
    "        for index, num in enumerate(nums):\n",
    "            if num < 0:\n",
    "                neg_count = neg_count + 1\n",
    "            elif num == 0:\n",
    "                return 0\n",
    "            # looping through last element done. Time to check\n",
    "            if index == len(nums)-1 and neg_count % 2 != 0:\n",
    "                return -1\n",
    "\n",
    "        return 1\n",
    "\n",
    "if __name__ == '__main__':\n",
    "    sol = Solution()\n",
    "    print(sol.signFunc(nums = [0]))"
   ]
  },
  {
   "cell_type": "markdown",
   "metadata": {},
   "source": [
    "## Merge Intervals"
   ]
  },
  {
   "cell_type": "markdown",
   "metadata": {},
   "source": [
    "Given an array of intervals where intervals[i] = [starti, endi], merge all overlapping intervals, and return an array of the non-overlapping intervals that cover all the intervals in the input. <br>\n",
    "\n",
    " <br>\n",
    "\n",
    "Example 1:<br>\n",
    "\n",
    "Input: intervals = [[1,3],[2,6],[8,10],[15,18]]<br>\n",
    "Output: [[1,6],[8,10],[15,18]]<br>\n",
    "Explanation: Since intervals [1,3] and [2,6] overlaps, merge them into [1,6].<br>\n",
    "Example 2:<br><br>\n",
    "\n",
    "Input: intervals = [[1,4],[4,5]]<br>\n",
    "Output: [[1,5]]<br>\n",
    "Explanation: Intervals [1,4] and [4,5] are considered overlapping.<br><br>\n",
    " \n",
    "\n",
    "Constraints:<br>\n",
    "\n",
    "1 <= intervals.length <= 104<br>\n",
    "intervals[i].length == 2<br>\n",
    "0 <= starti <= endi <= 104<br>"
   ]
  },
  {
   "cell_type": "code",
   "execution_count": 83,
   "metadata": {},
   "outputs": [
    {
     "name": "stdout",
     "output_type": "stream",
     "text": [
      "[[1, 3]]\n"
     ]
    }
   ],
   "source": [
    "class Solution:\n",
    "    def merge(self, intervals):\n",
    "        for index, pair in enumerate(intervals):\n",
    "            first = pair[0]\n",
    "            second = pair[1]\n",
    "            for index, rest_pairs in enumerate(intervals[index+1:]):\n",
    "                if second >= rest_pairs[0] and first <= rest_pairs[1]:\n",
    "                    intervals.remove([first, second])\n",
    "                    intervals.remove([rest_pairs[0], rest_pairs[1]])\n",
    "                    if rest_pairs[0] < first:\n",
    "                        first = rest_pairs[0]\n",
    "                    intervals.insert(0, [first, rest_pairs[1]])\n",
    "                    if len(intervals)>1:\n",
    "                        self.merge(intervals)\n",
    "\n",
    "        return intervals\n",
    "\n",
    "if __name__ == '__main__':\n",
    "    sol = Solution()\n",
    "    print(sol.merge([[1,4],[2,3]]))"
   ]
  },
  {
   "cell_type": "markdown",
   "metadata": {},
   "source": [
    "## Subdomain visit count"
   ]
  },
  {
   "cell_type": "markdown",
   "metadata": {},
   "source": [
    "A website domain \"discuss.leetcode.com\" consists of various subdomains. At the top level, we have \"com\", at the next level, we have \"leetcode.com\" and at the lowest level, \"discuss.leetcode.com\". When we visit a domain like \"discuss.leetcode.com\", we will also visit the parent domains \"leetcode.com\" and \"com\" implicitly. <br>\n",
    "\n",
    "A count-paired domain is a domain that has one of the two formats \"rep d1.d2.d3\" or \"rep d1.d2\" where rep is the number of visits to the domain and d1.d2.d3 is the domain itself.<br>\n",
    "\n",
    "For example, \"9001 discuss.leetcode.com\" is a count-paired domain that indicates that discuss.leetcode.com was visited 9001 times.\n",
    "Given an array of count-paired domains cpdomains, return an array of the count-paired domains of each subdomain in the input. You may return the answer in any order.<br>\n",
    "\n",
    " \n",
    "\n",
    "Example 1:<br><br>\n",
    "\n",
    "Input: cpdomains = [\"9001 discuss.leetcode.com\"]<br>\n",
    "Output: [\"9001 leetcode.com\",\"9001 discuss.leetcode.com\",\"9001 com\"]<br>\n",
    "Explanation: We only have one website domain: \"discuss.leetcode.com\".<br>\n",
    "As discussed above, the subdomain \"leetcode.com\" and \"com\" will also be visited. So they will all be visited 9001 times.<br>\n",
    "Example 2:<br><br>\n",
    "\n",
    "Input: cpdomains = [\"900 google.mail.com\", \"50 yahoo.com\", \"1 intel.mail.com\", \"5 wiki.org\"]<br>\n",
    "Output: [\"901 mail.com\",\"50 yahoo.com\",\"900 google.mail.com\",\"5 wiki.org\",\"5 org\",\"1 intel.mail.com\",\"951 com\"]<br>\n",
    "Explanation: We will visit \"google.mail.com\" 900 times, \"yahoo.com\" 50 times, \"intel.mail.com\" once and \"wiki.org\" 5 times.<br>\n",
    "For the subdomains, we will visit \"mail.com\" 900 + 1 = 901 times, \"com\" 900 + 50 + 1 = 951 times, and \"org\" 5 times.<br><br>\n",
    " \n",
    "\n",
    "Constraints:<br><br>\n",
    "\n",
    "1 <= cpdomain.length <= 100<br>\n",
    "1 <= cpdomain[i].length <= 100<br>\n",
    "cpdomain[i] follows either the \"repi d1i.d2i.d3i\" format or the \"repi d1i.d2i\" format.<br>\n",
    "repi is an integer in the range [1, 104].<br>\n",
    "d1i, d2i, and d3i consist of lowercase English letters.<br>"
   ]
  },
  {
   "cell_type": "code",
   "execution_count": 140,
   "metadata": {},
   "outputs": [
    {
     "name": "stdout",
     "output_type": "stream",
     "text": [
      "['900 google.mail.com', '901 mail.com', '951 com', '50 yahoo.com', '1 intel.mail.com', '5 wiki.org', '5 org']\n"
     ]
    }
   ],
   "source": [
    "import collections\n",
    "class Solution:\n",
    "    def subdomainVisits(self, cpdomains):\n",
    "        ans = collections.Counter()\n",
    "        for domain in cpdomains:\n",
    "            count, domain = domain.split()\n",
    "            count = int(count)\n",
    "            frags = domain.split('.')\n",
    "            for i in range(len(frags)):\n",
    "                ans[\".\".join(frags[i:])] += count\n",
    "\n",
    "        return [\"{} {}\".format(ct, dom) for dom, ct in ans.items()]\n",
    "\n",
    "    \n",
    "    def formatResult(self, result_dict):\n",
    "        result = []\n",
    "        for key in result_dict.keys():\n",
    "            result.append(str(result_dict[key])+\" \"+key)\n",
    "        return result\n",
    "\n",
    "if __name__ == '__main__':\n",
    "    sol = Solution()\n",
    "    print(sol.subdomainVisits([\"900 google.mail.com\", \"50 yahoo.com\", \"1 intel.mail.com\", \"5 wiki.org\"]))"
   ]
  },
  {
   "cell_type": "markdown",
   "metadata": {},
   "source": [
    "## Can Place Flowers"
   ]
  },
  {
   "cell_type": "markdown",
   "metadata": {},
   "source": [
    "You have a long flowerbed in which some of the plots are planted, and some are not. However, flowers cannot be planted in adjacent plots. <br>\n",
    "\n",
    "Given an integer array flowerbed containing 0's and 1's, where 0 means empty and 1 means not empty, and an integer n, return if n new flowers can be planted in the flowerbed without violating the no-adjacent-flowers rule.<br>\n",
    "\n",
    " \n",
    "\n",
    "Example 1:<br><br>\n",
    "\n",
    "Input: flowerbed = [1,0,0,0,1], n = 1<br>\n",
    "Output: true<br>\n",
    "Example 2:<br><br>\n",
    "\n",
    "Input: flowerbed = [1,0,0,0,1], n = 2<br>\n",
    "Output: false<br>\n",
    " \n",
    "\n",
    "Constraints:<br><br>\n",
    "\n",
    "1 <= flowerbed.length <= 2 * 104<br>\n",
    "flowerbed[i] is 0 or 1.<br>\n",
    "There are no two adjacent flowers in flowerbed.<br>\n",
    "0 <= n <= flowerbed.length<br>"
   ]
  },
  {
   "cell_type": "code",
   "execution_count": 212,
   "metadata": {},
   "outputs": [
    {
     "name": "stdout",
     "output_type": "stream",
     "text": [
      "False\n"
     ]
    }
   ],
   "source": [
    "import collections\n",
    "class Solution:\n",
    "\n",
    "    def __init__(self):\n",
    "        self.counter = 0\n",
    "\n",
    "    def canPlaceFlowers(self, flowerbed, n):\n",
    "        if len(flowerbed) == 1:\n",
    "            if 0 in flowerbed and n <= 1:\n",
    "                return True\n",
    "            else:\n",
    "                return False\n",
    "\n",
    "        if len(flowerbed) == 2:\n",
    "            if 1 in flowerbed or n > 1:\n",
    "                return False\n",
    "            else:\n",
    "                return True\n",
    "\n",
    "        if len(flowerbed) >= 3:\n",
    "            if 0 not in flowerbed:\n",
    "                return False\n",
    "            first_available = flowerbed.index(0)\n",
    "            if first_available == 0:\n",
    "                if flowerbed[first_available + 1] in [0,2]:\n",
    "                    flowerbed[first_available] = 1\n",
    "                    flowerbed[first_available + 1] = 2\n",
    "                    self.counter += 1\n",
    "                    if self.counter == n:\n",
    "                        return True\n",
    "                    else:\n",
    "                        self.canPlaceFlowers(flowerbed, n)\n",
    "\n",
    "            # print(first_available)\n",
    "            elif flowerbed[first_available - 1] in [0, 2] and flowerbed[first_available + 1] in [0, 2] and first_available > 0:\n",
    "                flowerbed[first_available - 1] = 2\n",
    "                flowerbed[first_available + 1] = 2\n",
    "                flowerbed[first_available] = 1\n",
    "                print(flowerbed)\n",
    "                self.counter += 1\n",
    "                if self.counter == n:\n",
    "                    return True\n",
    "                else:\n",
    "                    self.canPlaceFlowers(flowerbed, n)\n",
    "            elif flowerbed[first_available - 1] == 1 or flowerbed[first_available + 1] == 1:\n",
    "                flowerbed[first_available] = 2\n",
    "                self.canPlaceFlowers(flowerbed, n)\n",
    "\n",
    "        if self.counter == n:\n",
    "            return True\n",
    "        else:\n",
    "            return False\n",
    "            \n",
    "        \n",
    "\n",
    "if __name__ == '__main__':\n",
    "    sol = Solution()\n",
    "    print(sol.canPlaceFlowers(flowerbed = [0,1,0,0,1], n = 1))"
   ]
  },
  {
   "cell_type": "markdown",
   "metadata": {},
   "source": [
    "## Meeting Rooms"
   ]
  },
  {
   "cell_type": "markdown",
   "metadata": {},
   "source": [
    "Given an array of meeting time intervals where intervals[i] = [starti, endi], determine if a person could attend all meetings. <br><br>\n",
    "\n",
    " \n",
    "\n",
    "Example 1:<br><br>\n",
    "\n",
    "Input: intervals = [[0,30],[5,10],[15,20]]<br>\n",
    "Output: false<br>\n",
    "Example 2:<br><br>\n",
    "\n",
    "Input: intervals = [[7,10],[2,4]]<br>\n",
    "Output: true<br>\n",
    " \n",
    "\n",
    "Constraints:<br><br>\n",
    "\n",
    "0 <= intervals.length <= 104<br>\n",
    "intervals[i].length == 2<br>\n",
    "0 <= starti < endi <= 106<br>"
   ]
  },
  {
   "cell_type": "code",
   "execution_count": 237,
   "metadata": {},
   "outputs": [
    {
     "name": "stdout",
     "output_type": "stream",
     "text": [
      "False\n"
     ]
    }
   ],
   "source": [
    "import collections\n",
    "\n",
    "\n",
    "class Solution:\n",
    "    def canAttendMeetings(self, intervals):\n",
    "        if len(intervals) <= 1:\n",
    "            return True\n",
    "\n",
    "        for index, interval in enumerate(intervals):\n",
    "            # interval = intervals[index]\n",
    "            # intervals.remove(interval)\n",
    "            # intervals.insert(0, interval)\n",
    "            if index != len(intervals):\n",
    "                for rest_other_interval in intervals[1:]:\n",
    "                    if interval[0] < rest_other_interval[0] < interval[1] or interval[0] < rest_other_interval[1] < interval[1] or interval[0]==rest_other_interval[0] or rest_other_interval[1]==interval[1]:\n",
    "                        return False\n",
    "                    interval, rest_other_interval = rest_other_interval, interval\n",
    "                    if interval[0] < rest_other_interval[0] < interval[1] or interval[0] < rest_other_interval[1] < interval[1] or interval[0]==rest_other_interval[0] or rest_other_interval[1]==interval[1]:\n",
    "                        return False\n",
    "        return True\n",
    "\n",
    "\n",
    "if __name__ == '__main__':\n",
    "    sol = Solution()\n",
    "    print(sol.canAttendMeetings([[7,10],[2,4]]))"
   ]
  },
  {
   "cell_type": "markdown",
   "metadata": {},
   "source": [
    "## Remove Element"
   ]
  },
  {
   "cell_type": "markdown",
   "metadata": {},
   "source": [
    "Given an integer array nums and an integer val, remove all occurrences of val in nums in-place. The relative order of the elements may be changed.\n",
    "\n",
    "Since it is impossible to change the length of the array in some languages, you must instead have the result be placed in the first part of the array nums. More formally, if there are k elements after removing the duplicates, then the first k elements of nums should hold the final result. It does not matter what you leave beyond the first k elements.\n",
    "\n",
    "Return k after placing the final result in the first k slots of nums.\n",
    "\n",
    "Do not allocate extra space for another array. You must do this by modifying the input array in-place with O(1) extra memory."
   ]
  },
  {
   "cell_type": "code",
   "execution_count": 248,
   "metadata": {},
   "outputs": [
    {
     "name": "stdout",
     "output_type": "stream",
     "text": [
      "2\n"
     ]
    }
   ],
   "source": [
    "class Solution:\n",
    "    def removeElement(self, nums, val):\n",
    "        while(val in nums):\n",
    "            nums.remove(val)\n",
    "\n",
    "        return len(nums)\n",
    "\n",
    "\n",
    "if __name__ == '__main__':\n",
    "    sol = Solution()\n",
    "    print(sol.removeElement([3,2,2,3], 3))"
   ]
  },
  {
   "cell_type": "markdown",
   "metadata": {},
   "source": [
    "## Remove Duplicates from Sorted Array"
   ]
  },
  {
   "cell_type": "markdown",
   "metadata": {},
   "source": [
    "Given an integer array nums sorted in non-decreasing order, remove the duplicates in-place such that each unique element appears only once. The relative order of the elements should be kept the same.\n",
    "\n",
    "Since it is impossible to change the length of the array in some languages, you must instead have the result be placed in the first part of the array nums. More formally, if there are k elements after removing the duplicates, then the first k elements of nums should hold the final result. It does not matter what you leave beyond the first k elements.\n",
    "\n",
    "Return k after placing the final result in the first k slots of nums.\n",
    "\n",
    "Do not allocate extra space for another array. You must do this by modifying the input array in-place with O(1) extra memory."
   ]
  },
  {
   "cell_type": "code",
   "execution_count": 254,
   "metadata": {},
   "outputs": [
    {
     "name": "stdout",
     "output_type": "stream",
     "text": [
      "8\n"
     ]
    }
   ],
   "source": [
    "class Solution:\n",
    "    def removeElement(self, nums):\n",
    "        if len(nums) == 0:\n",
    "            return 0\n",
    "\n",
    "        index = 0\n",
    "        while(index != len(nums)-1):\n",
    "            if nums[index] == nums[index+1]:\n",
    "                del nums[index+1]\n",
    "            else:\n",
    "                index = index + 1\n",
    "        \n",
    "        return len(nums)\n",
    "\n",
    "\n",
    "if __name__ == '__main__':\n",
    "    sol = Solution()\n",
    "    print(sol.removeElement([2,2,3,3,4,5,6,6,7,7,7,8,8,8,8,8,8,9,]))"
   ]
  },
  {
   "cell_type": "markdown",
   "metadata": {},
   "source": [
    "## Remove Duplicates from Sorted Array II"
   ]
  },
  {
   "cell_type": "markdown",
   "metadata": {},
   "source": [
    "Given an integer array nums sorted in non-decreasing order, remove some duplicates in-place such that each unique element appears at most twice. The relative order of the elements should be kept the same.\n",
    "\n",
    "Since it is impossible to change the length of the array in some languages, you must instead have the result be placed in the first part of the array nums. More formally, if there are k elements after removing the duplicates, then the first k elements of nums should hold the final result. It does not matter what you leave beyond the first k elements.\n",
    "\n",
    "Return k after placing the final result in the first k slots of nums.\n",
    "\n",
    "Do not allocate extra space for another array. You must do this by modifying the input array in-place with O(1) extra memory."
   ]
  },
  {
   "cell_type": "code",
   "execution_count": 1,
   "metadata": {},
   "outputs": [
    {
     "name": "stdout",
     "output_type": "stream",
     "text": [
      "8\n"
     ]
    }
   ],
   "source": [
    "class Solution:\n",
    "    def removeElement(self, nums):\n",
    "        if len(nums) == 0:\n",
    "            return 0\n",
    "\n",
    "        index = 0\n",
    "        while(index != len(nums)-1):\n",
    "            if nums[index] == nums[index+1]:\n",
    "                del nums[index+1]\n",
    "            else:\n",
    "                index = index + 1\n",
    "        \n",
    "        return len(nums)\n",
    "\n",
    "\n",
    "if __name__ == '__main__':\n",
    "    sol = Solution()\n",
    "    print(sol.removeElement([2,2,3,3,4,5,6,6,7,7,7,8,8,8,8,8,8,9,]))"
   ]
  },
  {
   "cell_type": "code",
   "execution_count": 264,
   "metadata": {},
   "outputs": [
    {
     "data": {
      "text/plain": [
       "3"
      ]
     },
     "execution_count": 264,
     "metadata": {},
     "output_type": "execute_result"
    }
   ],
   "source": [
    "from collections import Counter\n",
    "a = [1,1,2,2,3,4,4,54,54]\n",
    "b = Counter(a)\n",
    "b = {k: v for k, v in sorted(b.items(), key=lambda item: item[1])}\n",
    "next(iter(b))"
   ]
  },
  {
   "cell_type": "code",
   "execution_count": null,
   "metadata": {},
   "outputs": [],
   "source": []
  },
  {
   "cell_type": "code",
   "execution_count": 292,
   "metadata": {},
   "outputs": [
    {
     "name": "stdout",
     "output_type": "stream",
     "text": [
      "a\n"
     ]
    }
   ],
   "source": [
    "s = \"aa\"\n",
    "t=\"a\"\n",
    "s = list(s)\n",
    "t = list(t)\n",
    "found = True\n",
    "if len(s) > len(t):\n",
    "    at_fault_list = s\n",
    "    apt_len = len(t)\n",
    "else:\n",
    "    at_fault_list = t\n",
    "    apt_len = len(s)\n",
    "at_fault_list.sort()\n",
    "s.sort()\n",
    "t.sort()\n",
    "for i in range(apt_len):\n",
    "    if s[i] != t[i]:\n",
    "        return (at_fault_list[i])\n",
    "        found = False\n",
    "        break\n",
    "\n",
    "if found:\n",
    "    return (at_fault_list[-1])"
   ]
  },
  {
   "cell_type": "markdown",
   "metadata": {},
   "source": [
    "https://leetcode.com/problems/single-number/solution/\n",
    "https://leetcode.com/problems/single-number-ii/\n",
    "https://leetcode.com/problems/single-number-iii/\n",
    "https://leetcode.com/problems/missing-number/\n",
    "https://leetcode.com/problems/find-the-duplicate-number/\n",
    "https://leetcode.com/problems/find-the-difference/submissions/\n",
    "https://leetcode.com/problems/sorting-the-sentence/\n",
    "https://leetcode.com/problems/remove-one-element-to-make-the-array-strictly-increasing/"
   ]
  },
  {
   "cell_type": "markdown",
   "metadata": {},
   "source": [
    "## Sorting the sentence"
   ]
  },
  {
   "cell_type": "markdown",
   "metadata": {},
   "source": [
    "A sentence is a list of words that are separated by a single space with no leading or trailing spaces. Each word consists of lowercase and uppercase English letters. <br>\n",
    "\n",
    "A sentence can be shuffled by appending the 1-indexed word position to each word then rearranging the words in the sentence.<br>\n",
    "\n",
    "For example, the sentence \"This is a sentence\" can be shuffled as \"sentence4 a3 is2 This1\" or \"is2 sentence4 This1 a3\".<br>\n",
    "Given a shuffled sentence s containing no more than 9 words, reconstruct and return the original sentence.<br>\n",
    "\n",
    " \n",
    "\n",
    "Example 1:<br><br>\n",
    "\n",
    "Input: s = \"is2 sentence4 This1 a3\"<br>\n",
    "Output: \"This is a sentence\"<br>\n",
    "Explanation: Sort the words in s to their original positions \"This1 is2 a3 sentence4\", then remove the numbers.<br>\n",
    "Example 2:<br><br>\n",
    "\n",
    "Input: s = \"Myself2 Me1 I4 and3\"<br>\n",
    "Output: \"Me Myself and I\"<br>\n",
    "Explanation: Sort the words in s to their original positions \"Me1 Myself2 and3 I4\", then remove the numbers.<br>\n",
    " \n",
    "\n",
    "Constraints:<br><br>\n",
    "\n",
    "2 <= s.length <= 200<br>\n",
    "s consists of lowercase and uppercase English letters, spaces, and digits from 1 to 9.<br>\n",
    "The number of words in s is between 1 and 9.<br>\n",
    "The words in s are separated by a single space.<br>\n",
    "s contains no leading or trailing spaces.<br>"
   ]
  },
  {
   "cell_type": "code",
   "execution_count": 160,
   "metadata": {},
   "outputs": [
    {
     "name": "stdout",
     "output_type": "stream",
     "text": [
      "Me Myself And I\n",
      "Z Z Z\n"
     ]
    }
   ],
   "source": [
    "class Solution:\n",
    "    def sortSentence(self, s):\n",
    "        result = \"\"\n",
    "        sentence_list = s.split()\n",
    "        result_dict = dict()\n",
    "        for word in sentence_list:\n",
    "            result_dict[int(word[-1])] = word[:len(word)-1]\n",
    "        for key in sorted(result_dict):\n",
    "            result = result+result_dict[key]+\" \"\n",
    "        return (result[:len(result)-1])\n",
    "\n",
    "\n",
    "if __name__ == '__main__':\n",
    "    sol = Solution()\n",
    "    print(sol.sortSentence(\"Myself2 Me1 I4 And3\"))\n",
    "    print(sol.sortSentence(\"Z1 Z3 Z2\"))"
   ]
  },
  {
   "cell_type": "markdown",
   "metadata": {},
   "source": [
    "## Remove One Element to Make the Array Strictly Increasing"
   ]
  },
  {
   "cell_type": "markdown",
   "metadata": {},
   "source": [
    "Given a 0-indexed integer array nums, return true if it can be made strictly increasing after removing exactly one element, or false otherwise. If the array is already strictly increasing, return true. <br>\n",
    "\n",
    "The array nums is strictly increasing if nums[i - 1] < nums[i] for each index (1 <= i < nums.length).<br>\n",
    "\n",
    " \n",
    "\n",
    "Example 1:<br><br>\n",
    "\n",
    "Input: nums = [1,2,10,5,7]<br>\n",
    "Output: true<br>\n",
    "Explanation: By removing 10 at index 2 from nums, it becomes [1,2,5,7].<br>\n",
    "[1,2,5,7] is strictly increasing, so return true.<br>\n",
    "Example 2:<br><br>\n",
    "\n",
    "Input: nums = [2,3,1,2]<br>\n",
    "Output: false<br>\n",
    "Explanation:<br>\n",
    "[3,1,2] is the result of removing the element at index 0.<br>\n",
    "[2,1,2] is the result of removing the element at index 1.<br>\n",
    "[2,3,2] is the result of removing the element at index 2.<br>\n",
    "[2,3,1] is the result of removing the element at index 3.<br>\n",
    "No resulting array is strictly increasing, so return false.<br>\n",
    "Example 3:<br><br>\n",
    "\n",
    "Input: nums = [1,1,1]<br>\n",
    "Output: false<br>\n",
    "Explanation: The result of removing any element is [1,1].<br>\n",
    "[1,1] is not strictly increasing, so return false.<br>\n",
    "Example 4:<br><br>\n",
    "\n",
    "Input: nums = [1,2,3]<br>\n",
    "Output: true<br>\n",
    "Explanation: [1,2,3] is already strictly increasing, so return true.<br>\n",
    " \n",
    "\n",
    "Constraints:<br><br>\n",
    "\n",
    "2 <= nums.length <= 1000<br>\n",
    "1 <= nums[i] <= 1000<br>"
   ]
  },
  {
   "cell_type": "code",
   "execution_count": 130,
   "metadata": {},
   "outputs": [
    {
     "name": "stdout",
     "output_type": "stream",
     "text": [
      "True\n",
      "True\n",
      "False\n",
      "True\n",
      "True\n",
      "True\n",
      "True\n"
     ]
    }
   ],
   "source": [
    "class Solution:\n",
    "    def canBeIncreasing(self, nums) -> bool:\n",
    "        n = len(nums)\n",
    "        current_peak,previous_peak = nums[0],0 # two last peak value in increasing sequence so far \n",
    "        count = 1\n",
    "        for i in range(1,n):\n",
    "            if nums[i] > current_peak: #  current_num is greater than previous, increasing sequence is maintained \n",
    "                previous_peak = current_peak\n",
    "                current_peak = nums[i]\n",
    "            elif count:                    # current_num is decreasing the sequence, you have one chance to skip\n",
    "                count -=1\n",
    "\t\t\t\t#There could be 2 case :\n",
    "\t\t\t\t# 1) the decreasing value can be less than the current_peak but greater than previous_peak, you can remove the current_peak and\n",
    "\t\t\t\t#sequence will still be increasing, update the current_peak to this number\n",
    "                if nums[i] > previous_peak:    \n",
    "                    current_peak = nums[i]\n",
    "                # 2) the decreasing value can be less than the current_peak but less than the previous_peak, you can remove this decreasing number\n",
    "\t\t\t\t#itself, nothing to change\n",
    "            else: # you never had more than one chance to skip\n",
    "                return False\n",
    "        return True  # yes , it is increasing seq\n",
    "\n",
    "if __name__ == '__main__':\n",
    "    sol = Solution()\n",
    "    print(sol.canBeIncreasing([105,924,32,968]))\n",
    "    print(sol.canBeIncreasing([1,2,5,10,7,8]))\n",
    "    print(sol.canBeIncreasing([1,1,1]))\n",
    "    print(sol.canBeIncreasing([1,2,3]))\n",
    "    print(sol.canBeIncreasing([1,0,3]))\n",
    "    print(sol.canBeIncreasing([1,2,3,0]))\n",
    "    print(sol.canBeIncreasing([10, 1, 2, 3]))"
   ]
  },
  {
   "cell_type": "markdown",
   "metadata": {},
   "source": [
    "## Find the Duplicate Number"
   ]
  },
  {
   "cell_type": "markdown",
   "metadata": {},
   "source": [
    "Given an array of integers nums containing n + 1 integers where each integer is in the range [1, n] inclusive.<br>\n",
    "\n",
    "There is only one repeated number in nums, return this repeated number.<br>\n",
    "\n",
    "You must solve the problem without modifying the array nums and uses only constant extra space.<br>\n",
    "\n",
    " \n",
    "\n",
    "Example 1:<br><br>\n",
    "\n",
    "Input: nums = [1,3,4,2,2]<br>\n",
    "Output: 2<br>\n",
    "Example 2:<br><br>\n",
    "\n",
    "Input: nums = [3,1,3,4,2]<br>\n",
    "Output: 3<br>\n",
    "Example 3:<br><br>\n",
    "\n",
    "Input: nums = [1,1]<br>\n",
    "Output: 1<br>\n",
    "Example 4:<br>\n",
    "\n",
    "Input: nums = [1,1,2]<br>\n",
    "Output: 1<br>\n",
    " \n",
    "\n",
    "Constraints:<br><br>\n",
    "\n",
    "1 <= n <= 105<br>\n",
    "nums.length == n + 1<br>\n",
    "1 <= nums[i] <= n<br>\n",
    "All the integers in nums appear only once except for precisely one integer which appears two or more times.<br>\n",
    " "
   ]
  },
  {
   "cell_type": "code",
   "execution_count": 143,
   "metadata": {},
   "outputs": [
    {
     "name": "stdout",
     "output_type": "stream",
     "text": [
      "4\n"
     ]
    }
   ],
   "source": [
    "class Solution:\n",
    "    def findDuplicate(self, nums) -> int:\n",
    "        b = Counter(nums)\n",
    "        b = {k: v for k, v in sorted(b.items(), key=lambda item: item[1], reverse = True)}\n",
    "        return next(iter(b))\n",
    "\n",
    "    def fidnDuplicateLinearTimeConstantSpace(self, nums) -> int:\n",
    "        for num in nums:\n",
    "            cur = abs(num)\n",
    "            if nums[cur] < 0:\n",
    "                duplicate = cur\n",
    "                break\n",
    "            nums[cur] = -nums[cur]\n",
    "\n",
    "        # Restore numbers\n",
    "        for i in range(len(nums)):\n",
    "            nums[i] = abs(nums[i])\n",
    "\n",
    "        return duplicate\n",
    "\n",
    "    def findDuplicateBinarySearch(self, nums):\n",
    "        # 'low' and 'high' represent the range of values of the target\n",
    "        low = 1\n",
    "        high = len(nums) - 1\n",
    "        \n",
    "        while low <= high:\n",
    "            cur = (low + high) // 2\n",
    "            count = 0\n",
    "\n",
    "            # Count how many numbers are less than or equal to 'cur'\n",
    "            count = sum(num <= cur for num in nums)\n",
    "            if count > cur:\n",
    "                duplicate = cur\n",
    "                high = cur - 1\n",
    "            else:\n",
    "                low = cur + 1\n",
    "                \n",
    "        return duplicate\n",
    "\n",
    "if __name__ == '__main__':\n",
    "    sol = Solution()\n",
    "    print(sol.findDuplicateBinarySearch([3,2,1,4,4]))"
   ]
  },
  {
   "cell_type": "markdown",
   "metadata": {},
   "source": [
    "## Majority Element"
   ]
  },
  {
   "cell_type": "markdown",
   "metadata": {},
   "source": [
    "Given an array nums of size n, return the majority element. <br>\n",
    "\n",
    "The majority element is the element that appears more than ⌊n / 2⌋ times. You may assume that the majority element always exists in the array.<br>\n",
    "\n",
    " \n",
    "\n",
    "Example 1:<br><br>\n",
    "\n",
    "Input: nums = [3,2,3]<br>\n",
    "Output: 3<br>\n",
    "Example 2:<br>\n",
    "<br>\n",
    "Input: nums = [2,2,1,1,1,2,2]<br>\n",
    "Output: 2<br>\n",
    " \n",
    "\n",
    "Constraints:<br><br>\n",
    "\n",
    "n == nums.length<br>\n",
    "1 <= n <= 5 * 104<br>\n",
    "-231 <= nums[i] <= 231 - 1<br><br>\n",
    " \n",
    "\n",
    "Follow-up: Could you solve the problem in linear time and in O(1) space?<br>"
   ]
  },
  {
   "cell_type": "code",
   "execution_count": 164,
   "metadata": {},
   "outputs": [
    {
     "name": "stdout",
     "output_type": "stream",
     "text": [
      "2\n"
     ]
    }
   ],
   "source": [
    "from collections import Counter\n",
    "class Solution:\n",
    "    def majorityElement(self, nums):\n",
    "        num_dict = Counter(nums)\n",
    "        return next(iter({k: v for k, v in sorted(num_dict.items(), key=lambda item: item[1], reverse=True)}))\n",
    "\n",
    "\n",
    "    def majorityElementLinearTimeConstantSpace(self, nums):\n",
    "        return True\n",
    "\n",
    "if __name__ == '__main__':\n",
    "    sol = Solution()\n",
    "    print(sol.majorityElement([2,2,1,1,1,2,2]))"
   ]
  },
  {
   "cell_type": "markdown",
   "metadata": {},
   "source": [
    "## Missing Number"
   ]
  },
  {
   "cell_type": "markdown",
   "metadata": {},
   "source": [
    "Given an array nums containing n distinct numbers in the range [0, n], return the only number in the range that is missing from the array.<br>\n",
    "\n",
    " \n",
    "\n",
    "Example 1:<br><br>\n",
    "\n",
    "Input: nums = [3,0,1]<br>\n",
    "Output: 2<br>\n",
    "Explanation: n = 3 since there are 3 numbers, so all numbers are in the range [0,3]. 2 is the missing number in the range since it does not appear in nums."
   ]
  },
  {
   "cell_type": "code",
   "execution_count": 172,
   "metadata": {},
   "outputs": [
    {
     "name": "stdout",
     "output_type": "stream",
     "text": [
      "2\n"
     ]
    }
   ],
   "source": [
    "\n",
    "class Solution:\n",
    "    def missingNumber(self, nums) -> int:\n",
    "        # a = [i for i in range(len(nums)+1)]\n",
    "        # return list(set(a) - set(nums))[0]\n",
    "        expected_sum = len(nums)*(len(nums)+1)//2\n",
    "        actual_sum = sum(nums)\n",
    "        return expected_sum - actual_sum\n",
    "\n",
    "if __name__ == '__main__':\n",
    "    sol = Solution()\n",
    "    print(sol.missingNumber([3,0, 1]))"
   ]
  },
  {
   "cell_type": "markdown",
   "metadata": {},
   "source": [
    "## Valid Pranthesis"
   ]
  },
  {
   "cell_type": "markdown",
   "metadata": {},
   "source": [
    "Given a string s containing just the characters '(', ')', '{', '}', '[' and ']', determine if the input string is valid. <br>\n",
    "\n",
    "An input string is valid if:<br>\n",
    "\n",
    "Open brackets must be closed by the same type of brackets.<br>\n",
    "Open brackets must be closed in the correct order.<br>\n",
    " \n",
    "\n",
    "Example 1:<br><br>\n",
    "\n",
    "Input: s = \"()\"<br>\n",
    "Output: true<br>\n",
    "Example 2:<br>\n",
    "\n",
    "Input: s = \"()[]{}\"<br><br>\n",
    "Output: true<br>\n",
    "Example 3:<br><br>\n",
    "\n",
    "Input: s = \"(]\"<br>\n",
    "Output: false<br>\n",
    "Example 4:<br><br>\n",
    "\n",
    "Input: s = \"([)]\"<br><br>\n",
    "Output: false<br>\n",
    "Example 5:<br><br>\n",
    "\n",
    "Input: s = \"{[]}\"<br>\n",
    "Output: true<br>\n",
    " \n",
    "\n",
    "Constraints:<br><br>\n",
    "\n",
    "1 <= s.length <= 104<br>\n",
    "s consists of parentheses only '()[]{}'.<br>\n",
    "\n",
    "### Similar Ques - <br>\n",
    "\n",
    "Generate Parentheses Medium <br>\n",
    "Longest Valid Parentheses Hard<br>\n",
    "Remove Invalid Parentheses Hard<br>\n",
    "Check If Word Is Valid After Substitutions Medium<br>"
   ]
  },
  {
   "cell_type": "code",
   "execution_count": 183,
   "metadata": {},
   "outputs": [
    {
     "name": "stdout",
     "output_type": "stream",
     "text": [
      "True\n"
     ]
    }
   ],
   "source": [
    "from collections import Counter\n",
    "class Solution:\n",
    "    def isValid(self, s: str) -> bool:\n",
    "        para_dict = {')':'(', ']':'[', '}':'{'}\n",
    "        # para_dict = {'(': ')', '[': ']', '{': '}'}\n",
    "        para_stack = []\n",
    "        for parenthesis in s:\n",
    "            if parenthesis in para_dict:\n",
    "                \n",
    "                top_element = para_stack.pop() if para_stack else '#'\n",
    "                \n",
    "                if para_dict[parenthesis] != top_element:\n",
    "                    return False\n",
    "            else:\n",
    "                para_stack.append(parenthesis)\n",
    "\n",
    "        if len(para_stack) == 0:\n",
    "            return True\n",
    "        else:\n",
    "            return False\n",
    "\n",
    "\n",
    "if __name__ == '__main__':\n",
    "    sol = Solution()\n",
    "    print(sol.isValid(\"{[]}\"))"
   ]
  },
  {
   "cell_type": "code",
   "execution_count": 2,
   "metadata": {},
   "outputs": [
    {
     "name": "stdout",
     "output_type": "stream",
     "text": [
      "29249425\n"
     ]
    }
   ],
   "source": [
    "class Solution:\n",
    "    def tribonacci(self, n: int) -> int:\n",
    "        if n < 3:\n",
    "            if n == 0:\n",
    "                return n\n",
    "            else:\n",
    "                return 1\n",
    "        else:\n",
    "            return self.tribonacci(n-3) + self.tribonacci(n-2) + self.tribonacci(n-1)\n",
    "\n",
    "if __name__ == '__main__':\n",
    "    sol = Solution()\n",
    "    print(sol.tribonacci(30))"
   ]
  },
  {
   "cell_type": "code",
   "execution_count": 8,
   "metadata": {},
   "outputs": [
    {
     "name": "stdout",
     "output_type": "stream",
     "text": [
      "practice\n",
      "3\n"
     ]
    }
   ],
   "source": [
    "class Solution:\n",
    "    def shortestDistance(self, wordsDict, word1: str, word2: str) -> int:\n",
    "        firstWordToBeChecked = True\n",
    "        index1 = 0\n",
    "        for index, word in enumerate(wordsDict):\n",
    "            if firstWordToBeChecked:\n",
    "                if word == word2:\n",
    "                    index1 = index\n",
    "                    print(word)\n",
    "                    firstWordToBeChecked = False\n",
    "            else:\n",
    "                if word == word1:\n",
    "                    return index-index1\n",
    "\n",
    "if __name__ == '__main__':\n",
    "    sol = Solution()\n",
    "    print(sol.shortestDistance([\"practice\", \"makes\", \"perfect\", \"coding\", \"makes\"],\"coding\",\"practice\"))"
   ]
  },
  {
   "cell_type": "markdown",
   "metadata": {},
   "source": [
    "## High Five\n",
    "\n",
    "Given a list of the scores of different students, items, where items[i] = [IDi, scorei] represents one score from a student with IDi, calculate each student's top five average. <br>\n",
    "\n",
    "Return the answer as an array of pairs result, where result[j] = [IDj, topFiveAveragej] represents the student with IDj and their top five average. Sort result by IDj in increasing order. <br>\n",
    "\n",
    "A student's top five average is calculated by taking the sum of their top five scores and dividing it by 5 using integer division. <br>\n",
    "\n",
    " \n",
    "\n",
    "Example 1: <br> <br>\n",
    "\n",
    "Input: items = [[1,91],[1,92],[2,93],[2,97],[1,60],[2,77],[1,65],[1,87],[1,100],[2,100],[2,76]] <br>\n",
    "Output: [[1,87],[2,88]] <br>\n",
    "Explanation:  <br>\n",
    "The student with ID = 1 got scores 91, 92, 60, 65, 87, and 100. Their top five average is (100 + 92 + 91 + 87 + 65) / 5 = 87. <br>\n",
    "The student with ID = 2 got scores 93, 97, 77, 100, and 76. Their top five average is (100 + 97 + 93 + 77 + 76) / 5 = 88.6, but with integer  division their average converts to 88. <br>\n",
    "Example 2: <br> <br>\n",
    "\n",
    "Input: items = [[1,100],[7,100],[1,100],[7,100],[1,100],[7,100],[1,100],[7,100],[1,100],[7,100]] <br>\n",
    "Output: [[1,100],[7,100]] <br>"
   ]
  },
  {
   "cell_type": "code",
   "execution_count": 35,
   "metadata": {},
   "outputs": [
    {
     "name": "stdout",
     "output_type": "stream",
     "text": [
      "[[3, 88], [5, 87]]\n"
     ]
    }
   ],
   "source": [
    "import math\n",
    "class Solution:\n",
    "    def highFive(self, items):\n",
    "        studentToMarks = {}\n",
    "        for studentAndMarks in items:\n",
    "            if studentAndMarks[0] not in studentToMarks:\n",
    "                studentToMarks[studentAndMarks[0]] = [studentAndMarks[1]]\n",
    "            else:\n",
    "                studentToMarks[studentAndMarks[0]].append(studentAndMarks[1])\n",
    "                studentToMarks[studentAndMarks[0]].sort(reverse = True)\n",
    "\n",
    "\n",
    "        return self.returnTopFiveAvg(studentToMarks)\n",
    "\n",
    "    \n",
    "    def returnTopFiveAvg(self, studentToMarks):\n",
    "        resultList = []\n",
    "        for studentId in studentToMarks.keys():\n",
    "            studentInfo = []\n",
    "            studentInfo.append(studentId)\n",
    "            studentInfo.append(math.floor(sum(studentToMarks[studentId][:5])/5))\n",
    "            resultList.append(studentInfo)\n",
    "        \n",
    "        resultList.sort(key = lambda x: x[0])\n",
    "        return resultList\n",
    "\n",
    "\n",
    "\n",
    "\n",
    "\n",
    "if __name__ == '__main__':\n",
    "    sol = Solution()\n",
    "    print(sol.highFive([[5,91],[5,92],[3,93],[3,97],[5,60],[3,77],[5,65],[5,87],[5,100],[3,100],[3,76]]))"
   ]
  },
  {
   "cell_type": "markdown",
   "metadata": {},
   "source": [
    "## 88. Merge Sorted Array:\n",
    "\n",
    "You are given two integer arrays nums1 and nums2, sorted in non-decreasing order, and two integers m and n, representing the number of elements in nums1 and nums2 respectively. <br>\n",
    "\n",
    "Merge nums1 and nums2 into a single array sorted in non-decreasing order.<br>\n",
    "\n",
    "The final sorted array should not be returned by the function, but instead be stored inside the array nums1. To accommodate this, nums1 has a length of m + n, where the first m elements denote the elements that should be merged, and the last n elements are set to 0 and should be ignored. nums2 has a length of n.<br>\n",
    "\n",
    " \n",
    "\n",
    "Example 1:<br><br>\n",
    "\n",
    "Input: nums1 = [1,2,3,0,0,0], m = 3, nums2 = [2,5,6], n = 3<br>\n",
    "Output: [1,2,2,3,5,6]<br>\n",
    "Explanation: The arrays we are merging are [1,2,3] and [2,5,6].<br>\n",
    "The result of the merge is [1,2,2,3,5,6] with the underlined elements coming from nums1.<br><br>\n",
    "Example 2:<br><br>\n",
    "\n",
    "Input: nums1 = [1], m = 1, nums2 = [], n = 0<br>\n",
    "Output: [1]<br>\n",
    "Explanation: The arrays we are merging are [1] and [].<br>\n",
    "The result of the merge is [1].<br><br>\n",
    "Example 3:<br><br>\n",
    "\n",
    "Input: nums1 = [0], m = 0, nums2 = [1], n = 1<br>\n",
    "Output: [1]<br>\n",
    "Explanation: The arrays we are merging are [] and [1].<br>\n",
    "The result of the merge is [1].<br>\n",
    "Note that because m = 0, there are no elements in nums1. The 0 is only there to ensure the merge result can fit in nums1.<br>\n",
    " \n",
    "\n",
    "Constraints:<br><br>\n",
    "\n",
    "nums1.length == m + n<br>\n",
    "nums2.length == n<br>\n",
    "0 <= m, n <= 200<br>\n",
    "1 <= m + n <= 200<br>\n",
    "-109 <= nums1[i], nums2[j] <= 109<br>\n",
    " \n",
    "\n",
    "Follow up: Can you come up with an algorithm that runs in O(m + n) time?<br>"
   ]
  },
  {
   "cell_type": "code",
   "execution_count": null,
   "metadata": {},
   "outputs": [],
   "source": [
    "class Solution:\n",
    "    def merge(self, nums1, m, nums2, n) -> None:\n",
    "        \"\"\"\n",
    "        Do not return anything, modify nums1 in-place instead.\n",
    "        \"\"\"\n",
    "        firstP = 0\n",
    "        secondP = 0\n",
    "        for index, target in nums2:\n",
    "            inserted = false\n",
    "            while(not inserted)\n",
    "\n",
    "    \n",
    "\n",
    "    if __name__ == '__main__':\n",
    "        sol = Solution()\n",
    "        print(sol.merge(nums1 = [1,2,3,0,0,0], m = 3, nums2 = [2,5,6], n = 3))"
   ]
  }
 ],
 "metadata": {
  "interpreter": {
   "hash": "aee8b7b246df8f9039afb4144a1f6fd8d2ca17a180786b69acc140d282b71a49"
  },
  "kernelspec": {
   "display_name": "Python 3",
   "language": "python",
   "name": "python3"
  },
  "language_info": {
   "codemirror_mode": {
    "name": "ipython",
    "version": 3
   },
   "file_extension": ".py",
   "mimetype": "text/x-python",
   "name": "python",
   "nbconvert_exporter": "python",
   "pygments_lexer": "ipython3",
   "version": "3.8.0"
  }
 },
 "nbformat": 4,
 "nbformat_minor": 4
}
