{
 "cells": [
  {
   "cell_type": "markdown",
   "metadata": {},
   "source": [
    "### 1. Two Sum"
   ]
  },
  {
   "cell_type": "markdown",
   "metadata": {},
   "source": [
    "Given an array of integers, return indices of the two numbers such that they add up to a specific target.\n",
    "\n",
    "You may assume that each input would have exactly one solution, and you may not use the same element twice.\n",
    "\n",
    "Example:\n",
    "\n",
    "Given nums = [2, 7, 11, 15], target = 9,\n",
    "\n",
    "Because nums[0] + nums[1] = 2 + 7 = 9,\n",
    "return [0, 1]."
   ]
  },
  {
   "cell_type": "code",
   "execution_count": 1,
   "metadata": {},
   "outputs": [
    {
     "name": "stdout",
     "output_type": "stream",
     "text": [
      "[0, 1]\n"
     ]
    }
   ],
   "source": [
    "class Solution:\n",
    "    \n",
    "    def twoSum(self, nums, target):\n",
    "        \"\"\"\n",
    "        :type nums: List[int]\n",
    "        :type target: int\n",
    "        :rtype: List[int]\n",
    "        \"\"\"\n",
    "        main_dict = {}\n",
    "        found = False\n",
    "        for index, num in enumerate(nums):\n",
    "            if target-num not in main_dict:\n",
    "                temp_list = (target - num, index)\n",
    "                main_dict[num] = temp_list\n",
    "            else:\n",
    "                found = True\n",
    "                return [main_dict[target-num][1], index]\n",
    "        \n",
    "        if found is False:\n",
    "            return [-1,-1]\n",
    "                    \n",
    "if __name__ == '__main__':\n",
    "    \n",
    "    sol = Solution()\n",
    "    print(sol.twoSum([2,7,11,15], 9))"
   ]
  },
  {
   "cell_type": "markdown",
   "metadata": {},
   "source": [
    "### 2. Running Sum for 1-D array"
   ]
  },
  {
   "cell_type": "markdown",
   "metadata": {},
   "source": [
    "Given an array nums. We define a running sum of an array as runningSum[i] = sum(nums[0]…nums[i]).\n",
    "\n",
    "Return the running sum of nums.\n",
    "\n",
    " \n",
    "\n",
    "Example 1:\n",
    "\n",
    "Input: nums = [1,2,3,4]\n",
    "Output: [1,3,6,10]\n",
    "Explanation: Running sum is obtained as follows: [1, 1+2, 1+2+3, 1+2+3+4].\n",
    "Example 2:\n",
    "\n",
    "Input: nums = [1,1,1,1,1]\n",
    "Output: [1,2,3,4,5]\n",
    "Explanation: Running sum is obtained as follows: [1, 1+1, 1+1+1, 1+1+1+1, 1+1+1+1+1].\n",
    "Example 3:\n",
    "\n",
    "Input: nums = [3,1,2,10,1]\n",
    "Output: [3,4,6,16,17]\n",
    " \n",
    "\n",
    "Constraints:\n",
    "\n",
    "1 <= nums.length <= 1000\n",
    "-10^6 <= nums[i] <= 10"
   ]
  },
  {
   "cell_type": "code",
   "execution_count": 48,
   "metadata": {},
   "outputs": [
    {
     "name": "stdout",
     "output_type": "stream",
     "text": [
      "[1, 3, 6, 10, 15]\n"
     ]
    }
   ],
   "source": [
    "class Solution:\n",
    "    def runningSum(self, nums):\n",
    "        \"\"\"\n",
    "        :type nums: List[int]\n",
    "        :rtype: List[int]\n",
    "        \"\"\"\n",
    "        \n",
    "        res = [nums[0]]\n",
    "        for i in range(1,len(nums)):\n",
    "            res.append(res[-1]+nums[i])\n",
    "            \n",
    "        return res\n",
    "    \n",
    "    def runningSumSameArray(self, nums):\n",
    "        \n",
    "        for i in range(1, len(nums)):\n",
    "            nums[i] = nums[i-1]+nums[i]\n",
    "        \n",
    "        return nums\n",
    "        \n",
    "if __name__ == '__main__':\n",
    "    \n",
    "    sol = Solution()\n",
    "    print(sol.runningSumSameArray([1,2,3,4,5]))"
   ]
  },
  {
   "cell_type": "markdown",
   "metadata": {},
   "source": [
    "### 3. Median of two sorted arrays: - to be done later"
   ]
  },
  {
   "cell_type": "markdown",
   "metadata": {},
   "source": [
    "There are two sorted arrays nums1 and nums2 of size m and n respectively.\n",
    "\n",
    "Find the median of the two sorted arrays. The overall run time complexity should be O(log (m+n)).\n",
    "\n",
    "You may assume nums1 and nums2 cannot be both empty.\n",
    "\n",
    "Example 1:\n",
    "\n",
    "nums1 = [1, 3]\n",
    "nums2 = [2]\n",
    "\n",
    "The median is 2.0<br>\n",
    "Example 2:\n",
    "\n",
    "nums1 = [1, 2]\n",
    "nums2 = [3, 4]\n",
    "\n",
    "The median is (2 + 3)/2 = 2.5"
   ]
  },
  {
   "cell_type": "code",
   "execution_count": 77,
   "metadata": {},
   "outputs": [
    {
     "name": "stdout",
     "output_type": "stream",
     "text": [
      "1\n"
     ]
    }
   ],
   "source": [
    "from statistics import mean\n",
    "\n",
    "class Solution:\n",
    "    def findMedianSortedArraysNaive(self, nums1, nums2):\n",
    "        \"\"\"\n",
    "        :type nums1: List[int]\n",
    "        :type nums2: List[int]\n",
    "        :rtype: float\n",
    "        \"\"\"\n",
    "        arr = sorted(nums1+nums2)\n",
    "        \n",
    "        if len(arr)%2 == 0:\n",
    "            median_index = [len(arr)/2, (len(arr)/2)+1]\n",
    "            return (arr[median_index[0]-1] + arr[median_index[1]-1] )/ 2\n",
    "        else:\n",
    "            median_index = [(len(arr)//2)+1]\n",
    "            return (arr[median_index[0]-1])\n",
    "    \n",
    "        \n",
    "    def findMedianSortedArrays(self, nums1, nums2):\n",
    "        \"\"\"\n",
    "        :type nums1: List[int]\n",
    "        :type nums2: List[int]\n",
    "        :rtype: float\n",
    "        \"\"\"\n",
    "        res = []\n",
    "        total_length = len(nums1) + len(nums2) - 1\n",
    "        \n",
    "        if total_length % 2 == 0:\n",
    "            median_index = [total_length//2]\n",
    "        else:\n",
    "            median_index = [total_length//2, (total_length//2)+1]\n",
    "        \n",
    "        while(len(nums1) > 0 or len(nums2) > 0):\n",
    "            \n",
    "            # Single comparision\n",
    "            \n",
    "            if len(nums1) > 0 and len(nums2) > 0:\n",
    "            \n",
    "                if nums1[0] > nums2[0]:\n",
    "                    res.append(nums1[0])\n",
    "                    del nums1[0]\n",
    "\n",
    "                if nums1[0] < nums2[0]:\n",
    "                    res.append(nums2[0])\n",
    "                    del nums2[0]\n",
    "            \n",
    "            elif len(nums1) == 0:\n",
    "                \n",
    "                res.append(nums2[0])\n",
    "                del nums2[0]\n",
    "                \n",
    "            elif len(nums2) == 0:\n",
    "                \n",
    "                res.append(nums1[0])\n",
    "                del nums1[0]\n",
    "                \n",
    "            if median_index[-1]+2 == len(res):\n",
    "                temp = list()\n",
    "                for index in median_index:\n",
    "                    temp.append(res[index])\n",
    "                \n",
    "                return mean(temp)\n",
    "                \n",
    "                    \n",
    "                \n",
    "\n",
    "if __name__ == '__main__':\n",
    "    \n",
    "    sol = Solution()\n",
    "    print(sol.findMedianSortedArrays(nums1 = [1, 3], nums2 = [2]))"
   ]
  },
  {
   "cell_type": "markdown",
   "metadata": {},
   "source": [
    "### 4. Number of good pairs"
   ]
  },
  {
   "cell_type": "markdown",
   "metadata": {},
   "source": [
    "Given an array of integers nums.\n",
    "\n",
    "A pair (i,j) is called good if nums[i] == nums[j] and i < j.\n",
    "\n",
    "Return the number of good pairs.\n",
    "\n",
    " \n",
    "\n",
    "Example 1:\n",
    "\n",
    "Input: nums = [1,2,3,1,1,3] <br>\n",
    "Output: 4<br>\n",
    "Explanation: There are 4 good pairs (0,3), (0,4), (3,4), (2,5) 0-indexed.<br>\n",
    "Example 2:<br>\n",
    "<br>\n",
    "Input: nums = [1,1,1,1]\n",
    "Output: 6<br>\n",
    "Explanation: Each pair in the array are good.<br>\n",
    "Example 3:<br>\n",
    "\n",
    "Input: nums = [1,2,3]<br>\n",
    "Output: 0<br>\n",
    " \n",
    "\n",
    "Constraints:<br>\n",
    "\n",
    "1 <= nums.length <= 100<br>\n",
    "1 <= nums[i] <= 100"
   ]
  },
  {
   "cell_type": "code",
   "execution_count": 108,
   "metadata": {},
   "outputs": [
    {
     "name": "stdout",
     "output_type": "stream",
     "text": [
      "6\n"
     ]
    }
   ],
   "source": [
    "class Solution:\n",
    "    def numIdenticalPairs(self, nums):\n",
    "        \"\"\"\n",
    "        :type nums: List[int]\n",
    "        :rtype: int\n",
    "        \"\"\"\n",
    "        main_dict = dict()\n",
    "        res = []\n",
    "        for index,num in enumerate(nums):\n",
    "            if num not in main_dict:\n",
    "                temp_list = list()\n",
    "                temp_list.append(index)\n",
    "                main_dict[num] = temp_list\n",
    "            else:\n",
    "                main_dict[num].append(index)\n",
    "        \n",
    "        flag = True\n",
    "        for key in main_dict.keys():\n",
    "            if len(main_dict[key]) > 1:\n",
    "                if flag == True:\n",
    "                    res.append(self.indexCombinations(main_dict[key]))\n",
    "                    flag = False\n",
    "                else:\n",
    "                    res[0] = res[-1] + self.indexCombinations(main_dict[key])\n",
    "                    \n",
    "        if len(res) > 0:\n",
    "            return len(res[-1])\n",
    "        else:\n",
    "            return 0\n",
    "                \n",
    "        \n",
    "    def indexCombinations(self, index_list):\n",
    "\n",
    "        res = []\n",
    "        i = 0\n",
    "        while(i != len(index_list)):\n",
    "            for j in range(i, len(index_list)):\n",
    "                if i != j:\n",
    "                    res.append((index_list[i], index_list[j]))\n",
    "            i += 1\n",
    "        return res\n",
    "        \n",
    "if __name__ == '__main__':\n",
    "    \n",
    "    sol = Solution()\n",
    "    print(sol.numIdenticalPairs([1,1,1,1]))"
   ]
  },
  {
   "cell_type": "markdown",
   "metadata": {},
   "source": [
    "### 5. Sort Array By Parity"
   ]
  },
  {
   "cell_type": "markdown",
   "metadata": {},
   "source": [
    "Given an array A of non-negative integers, return an array consisting of all the even elements of A, followed by all the odd elements of A.\n",
    "\n",
    "You may return any answer array that satisfies this condition.\n",
    "\n",
    " \n",
    "\n",
    "Example 1:<br><br>\n",
    "\n",
    "Input: [3,1,2,4] <br>\n",
    "Output: [2,4,3,1]<br>\n",
    "The outputs [4,2,3,1], [2,4,1,3], and [4,2,1,3] would also be accepted."
   ]
  },
  {
   "cell_type": "code",
   "execution_count": 109,
   "metadata": {},
   "outputs": [
    {
     "name": "stdout",
     "output_type": "stream",
     "text": [
      "[2, 4, 3, 1]\n"
     ]
    }
   ],
   "source": [
    "class Solution:\n",
    "    def sortArrayByParityNaive(self, A):\n",
    "        \"\"\"\n",
    "        :type A: List[int]\n",
    "        :rtype: List[int]\n",
    "        \"\"\"\n",
    "        even = list()\n",
    "        odd = list()\n",
    "        for num in A:\n",
    "            if num%2 == 0:\n",
    "                even.append(num)\n",
    "            else:\n",
    "                odd.append(num)\n",
    "        return even+odd\n",
    "    \n",
    "    def sortArrayByParity(self, A):\n",
    "        \"\"\"\n",
    "        :type A: List[int]\n",
    "        :rtype: List[int]\n",
    "        \"\"\"\n",
    "        A.sort(key = lambda x: x % 2)\n",
    "        return A\n",
    "        \n",
    "        \n",
    "if __name__ == '__main__':\n",
    "    \n",
    "    sol = Solution()\n",
    "    print(sol.sortArrayByParity([3,1,2,4]))"
   ]
  },
  {
   "cell_type": "markdown",
   "metadata": {},
   "source": [
    "### 6. Search inserted position"
   ]
  },
  {
   "cell_type": "markdown",
   "metadata": {},
   "source": [
    "Given a sorted array and a target value, return the index if the target is found. If not, return the index where it would be if it were inserted in order.\n",
    "\n",
    "You may assume no duplicates in the array.\n",
    "\n",
    "Example 1: <br> <br>\n",
    "\n",
    "Input: [1,3,5,6], 5 <br>\n",
    "Output: 2 <br>\n",
    "Example 2: <br> <br>\n",
    "\n",
    "Input: [1,3,5,6], 2 <br>\n",
    "Output: 1 <br>\n",
    "Example 3: <br>\n",
    "\n",
    "Input: [1,3,5,6], 7 <br>\n",
    "Output: 4 <br>\n",
    "Example 4: <br>\n",
    "\n",
    "Input: [1,3,5,6], 0 <br>\n",
    "Output: 0 <br>"
   ]
  },
  {
   "cell_type": "code",
   "execution_count": 37,
   "metadata": {},
   "outputs": [
    {
     "name": "stdout",
     "output_type": "stream",
     "text": [
      "2\n"
     ]
    }
   ],
   "source": [
    "class Solution:\n",
    "    \n",
    "    def searchInsertNew(self, nums, target) -> int:\n",
    "        left, right = 0, len(nums) - 1\n",
    "        while left <= right:\n",
    "            pivot = (left + right) // 2\n",
    "            if nums[pivot] == target:\n",
    "                return pivot\n",
    "            if target < nums[pivot]:\n",
    "                right = pivot - 1\n",
    "            else:\n",
    "                left = pivot + 1\n",
    "        return left\n",
    "\n",
    "#     def searchInsert(self, nums, target):\n",
    "#         \"\"\"\n",
    "#         :type nums: List[int]\n",
    "#         :type target: int\n",
    "#         :rtype: int\n",
    "#         \"\"\"\n",
    "#         mid_point = len(nums) // 2\n",
    "#         print('Mid point is', mid_point)\n",
    "        \n",
    "#         if nums[mid_point] == target:\n",
    "#             return mid_point\n",
    "        \n",
    "#         if len(nums) == 2:\n",
    "            \n",
    "#             if target <= nums[0]:\n",
    "#                 print('1st point')\n",
    "#                 return mid_point - 1\n",
    "            \n",
    "#             elif target == nums[-1] or target > nums[0]:\n",
    "#                 print('2nd point')\n",
    "#                 return mid_point\n",
    "            \n",
    "#             elif target > nums[-1]:\n",
    "#                 print('3rd point')\n",
    "#                 return mid_point + 1\n",
    "            \n",
    "#         else:\n",
    "        \n",
    "#             if nums[mid_point] > target:\n",
    "#                 self.searchInsert(nums[:mid_point+1], target)\n",
    "\n",
    "#             elif nums[mid_point] < target:\n",
    "#                 self.searchInsert(nums[mid_point:], target)\n",
    "            \n",
    "    def searchInsertNaive(self, nums, target):\n",
    "        \n",
    "        if not nums:\n",
    "            return 0\n",
    "        \n",
    "        for index, num in enumerate(nums):\n",
    "            diff = target - num\n",
    "            if diff < 0:\n",
    "                return 0\n",
    "            elif diff == 0:\n",
    "                return index\n",
    "            elif index < len(nums)-1:\n",
    "                diff1 = target - nums[index+1]\n",
    "                if diff > 0 and diff1 < 0:\n",
    "                    \n",
    "                    return index+1\n",
    "            elif index == len(nums)-1:\n",
    "                return index+1\n",
    "        \n",
    "if __name__ == '__main__':\n",
    "    \n",
    "    sol = Solution()\n",
    "    print(sol.searchInsertNew([1,3], 4))"
   ]
  },
  {
   "cell_type": "markdown",
   "metadata": {},
   "source": [
    "### 7. Best time to buy and sell stocks I"
   ]
  },
  {
   "cell_type": "markdown",
   "metadata": {},
   "source": [
    "Say you have an array for which the ith element is the price of a given stock on day i.\n",
    "\n",
    "If you were only permitted to complete at most one transaction (i.e., buy one and sell one share of the stock), design an algorithm to find the maximum profit.\n",
    "\n",
    "Note that you cannot sell a stock before you buy one.<br>\n",
    "\n",
    "Example 1:<br>\n",
    "\n",
    "Input: [7,1,5,3,6,4]<br>\n",
    "Output: 5<br>\n",
    "Explanation: Buy on day 2 (price = 1) and sell on day 5 (price = 6), profit = 6-1 = 5.<br>\n",
    "             Not 7-1 = 6, as selling price needs to be larger than buying price.<br>\n",
    "Example 2:\n",
    "\n",
    "Input: [7,6,4,3,1]<br>\n",
    "Output: 0<br>\n",
    "Explanation: In this case, no transaction is done, i.e. max profit = 0.<br>"
   ]
  },
  {
   "cell_type": "code",
   "execution_count": 26,
   "metadata": {},
   "outputs": [
    {
     "name": "stdout",
     "output_type": "stream",
     "text": [
      "2\n"
     ]
    }
   ],
   "source": [
    "class Solution:\n",
    "    def maxProfit(self, prices):\n",
    "        \"\"\"\n",
    "        :type prices: List[int]\n",
    "        :rtype: int\n",
    "        \"\"\"\n",
    "        if not prices:\n",
    "                return 0\n",
    "        \n",
    "        dict_ = dict()\n",
    "\n",
    "        for price in prices:\n",
    "            if price not in dict_:\n",
    "                temp_list = []\n",
    "                main_dict[price] = temp_list\n",
    "            else:\n",
    "                \n",
    "\n",
    "if __name__ == '__main__':\n",
    "    \n",
    "    sol = Solution()\n",
    "    print(sol.maxProfit([2,4,1]))"
   ]
  },
  {
   "cell_type": "markdown",
   "metadata": {},
   "source": [
    "### 8. Shortest Unsorted Continuous Subarray"
   ]
  },
  {
   "cell_type": "markdown",
   "metadata": {},
   "source": [
    "Given an integer array, you need to find one continuous subarray that if you only sort this subarray in ascending order, then the whole array will be sorted in ascending order, too.\n",
    "\n",
    "You need to find the shortest such subarray and output its length.\n",
    "\n",
    "Example 1: <br>\n",
    "Input: [2, 6, 4, 8, 10, 9, 15]<br>\n",
    "Output: 5<br>\n",
    "Explanation: You need to sort [6, 4, 8, 10, 9] in ascending order to make the whole array sorted in ascending order.<br>\n",
    "Note:<br>\n",
    "Then length of the input array is in range [1, 10,000].<br>\n",
    "The input array may contain duplicates, so ascending order here means <=.<br>"
   ]
  },
  {
   "cell_type": "code",
   "execution_count": null,
   "metadata": {},
   "outputs": [],
   "source": [
    "class Solution:\n",
    "    def findUnsortedSubarray(self, nums):\n",
    "        \"\"\"\n",
    "        :type nums: List[int]\n",
    "        :rtype: int\n",
    "        \"\"\"\n",
    "        \n",
    "if __name__ == '__main__':\n",
    "        \n",
    "    sol = Solution()\n",
    "    print(sol.findUnsortedSubarray([2,4,1]))"
   ]
  },
  {
   "cell_type": "markdown",
   "metadata": {},
   "source": [
    "### 9. Majority Element"
   ]
  },
  {
   "cell_type": "markdown",
   "metadata": {},
   "source": [
    "Given an array of size n, find the majority element. The majority element is the element that appears more than ⌊ n/2 ⌋ times.\n",
    "\n",
    "You may assume that the array is non-empty and the majority element always exist in the array.\n",
    "\n",
    "Example 1: <br>\n",
    "\n",
    "Input: [3,2,3]<br>\n",
    "Output: 3<br>\n",
    "Example 2:<br>\n",
    "\n",
    "Input: [2,2,1,1,1,2,2]<br>\n",
    "Output: 2<br>"
   ]
  },
  {
   "cell_type": "code",
   "execution_count": 25,
   "metadata": {},
   "outputs": [
    {
     "name": "stdout",
     "output_type": "stream",
     "text": [
      "2\n"
     ]
    }
   ],
   "source": [
    "class Solution:\n",
    "    def majorityElementNaive(self, nums):\n",
    "        \"\"\"\n",
    "        :type nums: List[int]\n",
    "        :rtype: int\n",
    "        \"\"\"\n",
    "        if not nums:\n",
    "            return -1\n",
    "        \n",
    "        nums = sorted(nums)\n",
    "        suspect = nums[(len(nums) // 2 )]\n",
    "        occ = 0\n",
    "        \n",
    "        for num in nums:\n",
    "            if num == suspect:\n",
    "                occ = occ + 1\n",
    "        \n",
    "        if occ > len(nums)//2:\n",
    "            return suspect\n",
    "        else:\n",
    "            return -1\n",
    "        \n",
    "    def majorityElementNaive1(self, nums):\n",
    "        \"\"\"\n",
    "        :type nums: List[int]\n",
    "        :rtype: int\n",
    "        \"\"\"\n",
    "        main_dict = dict()\n",
    "        for num in nums:\n",
    "            if num in main_dict:\n",
    "                main_dict[num] = main_dict[num] + 1\n",
    "            else:\n",
    "                main_dict[num] = 1\n",
    "        \n",
    "        suspect = sorted(main_dict, key=main_dict.get)[-1]\n",
    "        \n",
    "        if main_dict[suspect] > len(nums)//2:\n",
    "            return suspect\n",
    "        else:\n",
    "            return -1\n",
    "        \n",
    "    \n",
    "    def majorityElement(self, nums):\n",
    "        \"\"\"\n",
    "        :type nums: List[int]\n",
    "        :rtype: int\n",
    "        \"\"\"\n",
    "        if not nums:\n",
    "            return -1\n",
    "        elif len(nums) == 1:\n",
    "            return nums[-1]\n",
    "        else:\n",
    "            traversed_flag = False\n",
    "            main_dict = dict()\n",
    "            for num in nums:\n",
    "                if num in main_dict:\n",
    "                    main_dict[num] = main_dict[num] + 1\n",
    "                    if main_dict[num] > len(nums)//2:\n",
    "                        traversed_flag = True\n",
    "                        return num\n",
    "                else:\n",
    "                    main_dict[num] = 1\n",
    "\n",
    "            if not traversed_flag:\n",
    "                return -1\n",
    "        \n",
    "if __name__ == '__main__':\n",
    "        \n",
    "    sol = Solution()\n",
    "    print(sol.majorityElement([2,2]))"
   ]
  },
  {
   "cell_type": "markdown",
   "metadata": {},
   "source": [
    "### 10. Plus One"
   ]
  },
  {
   "cell_type": "markdown",
   "metadata": {},
   "source": [
    "Given a non-empty array of digits representing a non-negative integer, increment one to the integer.\n",
    "\n",
    "The digits are stored such that the most significant digit is at the head of the list, and each element in the array contains a single digit.\n",
    "\n",
    "You may assume the integer does not contain any leading zero, except the number 0 itself.\n",
    "\n",
    "Example 1:<br>\n",
    "\n",
    "Input: [1,2,3]<br>\n",
    "Output: [1,2,4]<br>\n",
    "Explanation: The array represents the integer 123.<br>\n",
    "Example 2:<br>\n",
    "\n",
    "Input: [4,3,2,1]<br>\n",
    "Output: [4,3,2,2]<br>\n",
    "Explanation: The array represents the integer 4321.<br>"
   ]
  },
  {
   "cell_type": "code",
   "execution_count": 37,
   "metadata": {},
   "outputs": [
    {
     "name": "stdout",
     "output_type": "stream",
     "text": [
      "[2, 0, 0, 0]\n"
     ]
    }
   ],
   "source": [
    "class Solution:\n",
    "    def plusOne(self, digits):\n",
    "        \"\"\"\n",
    "        :type digits: List[int]\n",
    "        :rtype: List[int]\n",
    "        \"\"\"\n",
    "        s = ''\n",
    "        for num in digits:\n",
    "            s = s + str(num)\n",
    "        \n",
    "        s = str(int(s)+1)\n",
    "        return [int(i) for i in s]\n",
    "        \n",
    "        \n",
    "if __name__ == '__main__':\n",
    "        \n",
    "    sol = Solution()\n",
    "    print(sol.plusOne([1,9,9,9]))"
   ]
  },
  {
   "cell_type": "markdown",
   "metadata": {},
   "source": [
    "### 11. Find All Numbers Disappeared in an Array"
   ]
  },
  {
   "cell_type": "markdown",
   "metadata": {},
   "source": [
    "\n",
    "Given an array of integers where 1 ≤ a[i] ≤ n (n = size of array), some elements appear twice and others appear once.\n",
    "\n",
    "Find all the elements of [1, n] inclusive that do not appear in this array.\n",
    "\n",
    "Could you do it without extra space and in O(n) runtime? You may assume the returned list does not count as extra space.\n",
    "\n",
    "Example:\n",
    "\n",
    "Input:\n",
    "[4,3,2,7,8,2,3,1]\n",
    "\n",
    "Output:\n",
    "[5,6]"
   ]
  },
  {
   "cell_type": "code",
   "execution_count": 85,
   "metadata": {},
   "outputs": [
    {
     "name": "stdout",
     "output_type": "stream",
     "text": [
      "[5, 6]\n"
     ]
    }
   ],
   "source": [
    "class Solution:\n",
    "    \n",
    "    def findDisappearedNumbersList(self, nums):\n",
    "        \"\"\"\n",
    "        :type nums: List[int]\n",
    "        :rtype: List[int]\n",
    "        \"\"\"\n",
    "        if not nums:\n",
    "            return []\n",
    "        if len(nums) == 1:\n",
    "            return [nums[0]]\n",
    "        \n",
    "        res = []\n",
    "        \n",
    "        for i in range(1, len(nums)+1):\n",
    "            if i not in nums:\n",
    "                res.append(i)\n",
    "        \n",
    "        return res\n",
    "            \n",
    "    def findDisappearedNumbersDict(self, nums):\n",
    "        \"\"\"\n",
    "        :type nums: List[int]\n",
    "        :rtype: List[int]\n",
    "        \"\"\"\n",
    "        if not nums:\n",
    "            return []\n",
    "        if len(nums) == 1:\n",
    "            return [nums[0]]\n",
    "        \n",
    "        res = []\n",
    "        main_dict = dict()\n",
    "        for num in nums:\n",
    "            main_dict[num] = main_dict.get(num, 0)\n",
    "            \n",
    "        for i in range(1, len(nums)+1):\n",
    "            if i not in main_dict:\n",
    "                res.append(i)\n",
    "        \n",
    "        return res  \n",
    "            \n",
    "\n",
    "                    \n",
    "if __name__ == '__main__':\n",
    "        \n",
    "    sol = Solution()\n",
    "    print(sol.findDisappearedNumbersList([4,3,2,7,8,2,3,1]))"
   ]
  },
  {
   "cell_type": "markdown",
   "metadata": {},
   "source": [
    "### 12. Degree of an array"
   ]
  },
  {
   "cell_type": "markdown",
   "metadata": {},
   "source": [
    "Given a non-empty array of non-negative integers nums, the degree of this array is defined as the maximum frequency of any one of its elements.\n",
    "\n",
    "Your task is to find the smallest possible length of a (contiguous) subarray of nums, that has the same degree as nums.\n",
    "\n",
    " \n",
    "\n",
    "Example 1: <br>\n",
    "\n",
    "Input: nums = [1,2,2,3,1]<br>\n",
    "Output: 2<br>\n",
    "Explanation: <br>\n",
    "The input array has a degree of 2 because both elements 1 and 2 appear twice.<br>\n",
    "Of the subarrays that have the same degree:<br>\n",
    "[1, 2, 2, 3, 1], [1, 2, 2, 3], [2, 2, 3, 1], [1, 2, 2], [2, 2, 3], [2, 2]<br>\n",
    "The shortest length is 2. So return 2.<br>\n",
    "Example 2:<br>\n",
    "<br>\n",
    "Input: nums = [1,2,2,3,1,4,2]<br>\n",
    "Output: 6<br>\n",
    "Explanation: <br>\n",
    "The degree is 3 because the element 2 is repeated 3 times.<br>\n",
    "So [2,2,3,1,4,2] is the shortest subarray, therefore returning 6.<br>"
   ]
  },
  {
   "cell_type": "code",
   "execution_count": null,
   "metadata": {},
   "outputs": [],
   "source": [
    "class Solution:\n",
    "    def findShortestSubArray(self, nums):\n",
    "        \"\"\"\n",
    "        :type nums: List[int]\n",
    "        :rtype: int\n",
    "        \"\"\"\n",
    "        \n",
    "\n",
    "if __name__ == '__main__':\n",
    "        \n",
    "    sol = Solution()\n",
    "    print(sol.findShortestSubArray([1,2,3,4,6]))"
   ]
  },
  {
   "cell_type": "markdown",
   "metadata": {},
   "source": [
    "### 13.Google Word Extensions (Google On-Site)"
   ]
  },
  {
   "cell_type": "markdown",
   "metadata": {},
   "source": [
    "When people send messages on their phones they sometimes modify word spelling by adding extra letters for emphasis. For example, if you want to emphasize hello you might write it hellloooooooo. Let's call the ls and the os word extensions. Regular text contains 2 or fewer of the same character in a row, while word extensions have 3 or more of the same character in a row. Given an input string representing one word, write a method that returns the start and end indices of all extensions in the word.\n",
    "https://leetcode.com/problems/positions-of-large-groups\n",
    "\n",
    "Example 1: <br>\n",
    "\n",
    "Input: \"whaaaaatttsup\" <br>\n",
    "Output: [[2, 6], [7, 9]]<br>\n",
    "Explanation: <br>\n",
    "\"aaaaa\" and \"ttt\" are twitching letters, so output their starting and ending points.<br>\n",
    "Example 2:<br>\n",
    "\n",
    "Input: \"hellloooooooo\"<br>\n",
    "Output: [[2, 4], [5, 12]]<br> <br>\n",
    "Follow-up:<br>\n",
    "Now we want to spell-check extended words. You are given a dictionary of words. Implement method isExtendedDictionaryWord that will return:<br>\n",
    "\n",
    "true if it is a dictionary word.<br>\n",
    "true if you collapse the extensions in the word and it is a dictionary word.<br>\n",
    "false otherwise.<br> <br>\n",
    "class SpellChecker {\n",
    "\tpublic SpellChecker(List<String> dict) {\n",
    "\t}\n",
    "\n",
    "\tpublic boolean isExtendedDictionaryWord(String s) {\n",
    "\t}\n",
    "}"
   ]
  },
  {
   "cell_type": "markdown",
   "metadata": {},
   "source": [
    "### 14. Jewel and Stones"
   ]
  },
  {
   "cell_type": "markdown",
   "metadata": {},
   "source": [
    "You're given strings J representing the types of stones that are jewels, and S representing the stones you have.  Each character in S is a type of stone you have.  You want to know how many of the stones you have are also jewels.\n",
    "\n",
    "The letters in J are guaranteed distinct, and all characters in J and S are letters. Letters are case sensitive, so \"a\" is considered a different type of stone from \"A\".\n",
    "\n",
    "Example 1: <br>\n",
    "\n",
    "Input: J = \"aA\", S = \"aAAbbbb\"<br>\n",
    "Output: 3<br>\n",
    "Example 2:<br><br>\n",
    "\n",
    "Input: J = \"z\", S = \"ZZ\"<br>\n",
    "Output: 0<br>\n",
    "Note:<br>\n",
    "<br><br>\n",
    "S and J will consist of letters and have length at most 50.<br>\n",
    "The characters in J are distinct."
   ]
  },
  {
   "cell_type": "code",
   "execution_count": 6,
   "metadata": {},
   "outputs": [
    {
     "name": "stdout",
     "output_type": "stream",
     "text": [
      "3\n"
     ]
    }
   ],
   "source": [
    "class Solution:\n",
    "    def numJewelsInStonesNaive(self, J, S):\n",
    "        \"\"\"\n",
    "        :type J: str\n",
    "        :type S: str\n",
    "        :rtype: int\n",
    "        \"\"\"\n",
    "        no_of_jewels = 0\n",
    "        for stone in S:\n",
    "            if stone in J:\n",
    "                no_of_jewels += 1\n",
    "        \n",
    "        return no_of_jewels\n",
    "    \n",
    "    def numJewelsInStones(self, J, S):\n",
    "        \"\"\"\n",
    "        :type J: str\n",
    "        :type S: str\n",
    "        :rtype: int\n",
    "        \"\"\"\n",
    "        no_of_jewels = 0\n",
    "        main_dict = {}\n",
    "        for jewel in J:\n",
    "            main_dict[jewel] = 0\n",
    "        \n",
    "        for stone in S:\n",
    "            if stone in main_dict:\n",
    "                no_of_jewels += 1\n",
    "        \n",
    "        return no_of_jewels\n",
    "    \n",
    "    \n",
    "\n",
    "        \n",
    "if __name__ == '__main__':\n",
    "        \n",
    "    sol = Solution()\n",
    "    print(sol.numJewelsInStones(J = \"aA\", S = \"aAAbbbb\"))"
   ]
  },
  {
   "cell_type": "markdown",
   "metadata": {},
   "source": [
    "### 15. Word Pattern"
   ]
  },
  {
   "cell_type": "markdown",
   "metadata": {},
   "source": [
    "Given a pattern and a string str, find if str follows the same pattern. <br>\n",
    "\n",
    "Here follow means a full match, such that there is a bijection between a letter in pattern and a non-empty word in str.\n",
    "\n",
    "Example 1: <br> <br>\n",
    "\n",
    "Input: pattern = \"abba\", string = \"dog cat cat dog\" <br>\n",
    "Output: true <br>\n",
    "Example 2: <br> <br>\n",
    "\n",
    "Input:pattern = \"abba\", string = \"dog cat cat fish\" <br>\n",
    "Output: false <br>\n",
    "Example 3: <br> <br>\n",
    "\n",
    "Input: pattern = \"aaaa\", string = \"dog cat cat dog\" <br>\n",
    "Output: false <br>\n",
    "Example 4: <br> <br>\n",
    "\n",
    "Input: pattern = \"abba\", string = \"dog dog dog dog\" <br>\n",
    "Output: false <br>\n",
    "Notes: <br>\n",
    "You may assume pattern contains only lowercase letters, and str contains lowercase letters that may be separated by a single space."
   ]
  },
  {
   "cell_type": "code",
   "execution_count": 52,
   "metadata": {},
   "outputs": [
    {
     "name": "stdout",
     "output_type": "stream",
     "text": [
      "True\n",
      "False\n",
      "False\n",
      "False\n"
     ]
    }
   ],
   "source": [
    "class Solution:\n",
    "    def wordPatternPoorCode(self, pattern, string):\n",
    "        \"\"\"\n",
    "        :type pattern: str\n",
    "        :type str: str\n",
    "        :rtype: bool\n",
    "        \"\"\"\n",
    "        main_dict = dict()\n",
    "        reference_dict = dict()\n",
    "        string_array = string.split(\" \")\n",
    "        if len(pattern) != len(string_array) or not string or not pattern:\n",
    "            return False\n",
    "            \n",
    "        for index, patt in enumerate(pattern):\n",
    "            if patt not in main_dict:\n",
    "                if string_array[index] not in reference_dict:\n",
    "                    reference_dict[string_array[index]] = 0\n",
    "                    main_dict[patt] = string_array[index]\n",
    "                else:\n",
    "                    return False\n",
    "            else:\n",
    "                if main_dict[patt] != string_array[index]:\n",
    "                    return False\n",
    "        \n",
    "        return True\n",
    "        \n",
    "    def wordPattern(self, pattern, string):\n",
    "        \"\"\"\n",
    "        :type pattern: str\n",
    "        :type str: str\n",
    "        :rtype: bool\n",
    "        \"\"\"\n",
    "\n",
    "if __name__ == '__main__':\n",
    "        \n",
    "    sol = Solution()\n",
    "    print(sol.wordPatternPoorCode(pattern = \"abba\", string = \"dog cat cat dog\"))\n",
    "    print(sol.wordPatternPoorCode(pattern = \"abba\", string = \"dog cat cat fish\"))\n",
    "    print(sol.wordPatternPoorCode(pattern = \"aaaa\", string = \"dog cat cat dog\"))\n",
    "    print(sol.wordPatternPoorCode(pattern = \"abba\", string = \"dog dog dog dog\"))"
   ]
  },
  {
   "cell_type": "markdown",
   "metadata": {},
   "source": [
    "### 16. Count Primes"
   ]
  },
  {
   "cell_type": "markdown",
   "metadata": {},
   "source": [
    "Count the number of prime numbers less than a non-negative number, n.\n",
    "\n",
    "Example:<br><br>\n",
    "\n",
    "Input: 10<br>\n",
    "Output: 4<br>\n",
    "Explanation: There are 4 prime numbers less than 10, they are 2, 3, 5, 7."
   ]
  },
  {
   "cell_type": "code",
   "execution_count": 56,
   "metadata": {},
   "outputs": [
    {
     "name": "stdout",
     "output_type": "stream",
     "text": [
      "4\n"
     ]
    }
   ],
   "source": [
    "class Solution(object):\n",
    "    def countPrimes(self, n):\n",
    "        \"\"\"\n",
    "        :type n: int\n",
    "        :rtype: int\n",
    "        \"\"\"\n",
    "        if n < 2:\n",
    "            return 0\n",
    "        else:\n",
    "            primes=[True]*n\n",
    "            primes[0]=primes[1]=False  \n",
    "            for num in range(2,n):\n",
    "                if primes[num]:\n",
    "                    primes[2*num:n:num]=[False]*((n-1)//num-1)\n",
    "            return sum(primes)\n",
    "        \n",
    "if __name__ == '__main__':\n",
    "        \n",
    "    sol = Solution()\n",
    "    print(sol.countPrimes(10))"
   ]
  },
  {
   "cell_type": "markdown",
   "metadata": {},
   "source": [
    "### 17. Longest Substring Without Repeating Characters"
   ]
  },
  {
   "cell_type": "markdown",
   "metadata": {},
   "source": [
    "Given a string, find the length of the longest substring without repeating characters.\n",
    "\n",
    "Example 1: <br><br>\n",
    "\n",
    "Input: \"abcabcbb\"<br>\n",
    "Output: 3 <br>\n",
    "Explanation: The answer is \"abc\", with the length of 3. <br>\n",
    "Example 2:<br><br>\n",
    "\n",
    "Input: \"bbbbb\"<br>\n",
    "Output: 1<br>\n",
    "Explanation: The answer is \"b\", with the length of 1.<br>\n",
    "Example 3:<br><br>\n",
    "\n",
    "Input: \"pwwkew\"<br>\n",
    "Output: 3<br>\n",
    "Explanation: The answer is \"wke\", with the length of 3. <br>\n",
    "             Note that the answer must be a substring, \"pwke\" is a subsequence and not a substring."
   ]
  },
  {
   "cell_type": "code",
   "execution_count": 123,
   "metadata": {},
   "outputs": [
    {
     "name": "stdout",
     "output_type": "stream",
     "text": [
      "1\n"
     ]
    }
   ],
   "source": [
    "class Solution:\n",
    "    def lengthOfLongestSubstringNaive(self, s):\n",
    "        \"\"\"\n",
    "        :type s: str\n",
    "        :rtype: int\n",
    "        \"\"\"\n",
    "        if len(s) < 2:\n",
    "            return len(s)\n",
    "        \n",
    "        max_length = 0\n",
    "        substr = ''\n",
    "        \n",
    "        for index, letter in enumerate(s):\n",
    "            \n",
    "            if letter not in substr:\n",
    "                substr += letter\n",
    "            else:\n",
    "                if max_length > 0 and max_length < len(substr):\n",
    "                    max_length = len(substr)\n",
    "                elif max_length == 0:\n",
    "                    max_length = len(substr)\n",
    "                substr = letter\n",
    "                \n",
    "            if index == len(substr) - 1 and len(substr) == len(s):\n",
    "                return len(s)\n",
    "            \n",
    "        return(max_length)\n",
    "    \n",
    "if __name__ == '__main__':\n",
    "        \n",
    "    sol = Solution()\n",
    "    print(sol.lengthOfLongestSubstringNaive('aab'))"
   ]
  },
  {
   "cell_type": "markdown",
   "metadata": {},
   "source": [
    "### 18. Happy Number"
   ]
  },
  {
   "cell_type": "markdown",
   "metadata": {},
   "source": [
    "Write an algorithm to determine if a number n is \"happy\". <br>\n",
    "\n",
    "A happy number is a number defined by the following process: Starting with any positive integer, replace the number by the sum of the squares of its digits, and repeat the process until the number equals 1 (where it will stay), or it loops endlessly in a cycle which does not include 1. Those numbers for which this process ends in 1 are happy numbers.<br>\n",
    "\n",
    "Return True if n is a happy number, and False if not.<br>\n",
    "\n",
    "Example: <br>\n",
    "<br>\n",
    "Input: 19<br>\n",
    "Output: true<br>\n",
    "Explanation: <br>\n",
    "12 + 92 = 82<br>\n",
    "82 + 22 = 68<br>\n",
    "62 + 82 = 100<br>\n",
    "12 + 02 + 02 = 1<br>"
   ]
  },
  {
   "cell_type": "markdown",
   "metadata": {},
   "source": [
    "Why recusrion did not work"
   ]
  },
  {
   "cell_type": "code",
   "execution_count": 62,
   "metadata": {},
   "outputs": [
    {
     "name": "stdout",
     "output_type": "stream",
     "text": [
      "82\n"
     ]
    }
   ],
   "source": [
    "class Solution:\n",
    "    def isHappyRecursion(self, n):\n",
    "        \"\"\"\n",
    "        :type n: int\n",
    "        :rtype: bool\n",
    "        \"\"\"\n",
    "        n = str(n)\n",
    "        square = 0\n",
    "        for num in n:\n",
    "            square += int(num)**2\n",
    "        \n",
    "        if square == 1:\n",
    "            return True\n",
    "        else:\n",
    "            self.isHappy(square)\n",
    "    \n",
    "#     def isHappy(self, n: int) -> bool:\n",
    "\n",
    "    def isHappy(self, n):\n",
    "        total_sum = 0\n",
    "        while n > 0:\n",
    "            n, digit = divmod(n, 10)\n",
    "            total_sum += digit ** 2\n",
    "        return total_sum\n",
    "\n",
    "        seen = set()\n",
    "        while n != 1 and n not in seen:\n",
    "            seen.add(n)\n",
    "            n = isHappy(n)\n",
    "\n",
    "\n",
    "        return n == 1\n",
    "            \n",
    "if __name__ == '__main__':\n",
    "        \n",
    "    sol = Solution()\n",
    "    print(sol.isHappy(19))"
   ]
  },
  {
   "cell_type": "markdown",
   "metadata": {},
   "source": [
    "### 19. Isomorphic Strings"
   ]
  },
  {
   "cell_type": "markdown",
   "metadata": {},
   "source": [
    "Given two strings s and t, determine if they are isomorphic. <br>\n",
    "\n",
    "Two strings are isomorphic if the characters in s can be replaced to get t.<br>\n",
    "\n",
    "All occurrences of a character must be replaced with another character while preserving the order of characters. No two characters may map to the same character but a character may map to itself.<br>\n",
    "<br>\n",
    "Example 1:<br><br>\n",
    "\n",
    "Input: s = \"egg\", t = \"add\"<br>\n",
    "Output: true<br>\n",
    "Example 2:<br>\n",
    "\n",
    "Input: s = \"foo\", t = \"bar\"<br>\n",
    "Output: false<br>\n",
    "Example 3:<br>\n",
    "\n",
    "Input: s = \"paper\", t = \"title\"<br>\n",
    "Output: true<br>\n",
    "Note:<br>\n",
    "You may assume both s and t have the same length.<br>"
   ]
  },
  {
   "cell_type": "code",
   "execution_count": 59,
   "metadata": {},
   "outputs": [
    {
     "name": "stdout",
     "output_type": "stream",
     "text": [
      "True\n"
     ]
    }
   ],
   "source": [
    "class Solution:\n",
    "    def isIsomorphic(self, s, t):\n",
    "        \"\"\"\n",
    "        :type s: str\n",
    "        :type t: str\n",
    "        :rtype: bool\n",
    "        \"\"\"\n",
    "        main_dict = dict()\n",
    "        seen = dict()\n",
    "        \n",
    "        for index, str1 in enumerate(s):\n",
    "            if str1 not in main_dict:\n",
    "                if t[index] not in seen:\n",
    "                    main_dict[str1] = t[index]\n",
    "                    seen[t[index]]= 0\n",
    "                else:\n",
    "                    return False\n",
    "            elif main_dict[str1] != t[index]:\n",
    "                return False\n",
    "        \n",
    "        return True\n",
    "    \n",
    "if __name__ == '__main__':\n",
    "        \n",
    "    sol = Solution()\n",
    "    print(sol.isIsomorphic('ab', 'ac'))"
   ]
  },
  {
   "cell_type": "markdown",
   "metadata": {},
   "source": [
    "### 20. Hand of straight"
   ]
  },
  {
   "cell_type": "markdown",
   "metadata": {},
   "source": [
    "Alice has a hand of cards, given as an array of integers.\n",
    "\n",
    "Now she wants to rearrange the cards into groups so that each group is size W, and consists of W consecutive cards.\n",
    "\n",
    "Return true if and only if she can.\n",
    "\n",
    " \n",
    "\n",
    "Example 1: <br>\n",
    "\n",
    "Input: hand = [1,2,3,6,2,3,4,7,8], W = 3<br>\n",
    "Output: true<br>\n",
    "Explanation: Alice's hand can be rearranged as [1,2,3],[2,3,4],[6,7,8].<br>\n",
    "Example 2:<br>\n",
    "\n",
    "Input: hand = [1,2,3,4,5], W = 4<br>\n",
    "Output: false<br>\n",
    "Explanation: Alice's hand can't be rearranged into groups of 4.<br>\n",
    " \n",
    "\n",
    "Constraints:<br><br>\n",
    "\n",
    "1 <= hand.length <= 10000<br>\n",
    "0 <= hand[i] <= 10^9<br>\n",
    "1 <= W <= hand.length<br>\n",
    "Note: This question is the same as 1296: https://leetcode.com/problems/divide-array-in-sets-of-k-consecutive-numbers/"
   ]
  },
  {
   "cell_type": "code",
   "execution_count": null,
   "metadata": {},
   "outputs": [],
   "source": [
    "class Solution(object):\n",
    "    def isNStraightHand(self, hand, W):\n",
    "        \"\"\"\n",
    "        :type hand: List[int]\n",
    "        :type W: int\n",
    "        :rtype: bool\n",
    "        \"\"\"\n",
    "\n",
    "if __name__ == '__main__':\n",
    "        \n",
    "    sol = Solution()\n",
    "    print(sol.isNStraightHand(hand = [1,2,3,6,2,3,4,7,8], W = 3))"
   ]
  },
  {
   "cell_type": "markdown",
   "metadata": {},
   "source": [
    "### 21. Single Number\n",
    "\n",
    "Given a non-empty array of integers, every element appears twice except for one. Find that single one.<br>\n",
    "\n",
    "Note:<br>\n",
    "\n",
    "Your algorithm should have a linear runtime complexity. Could you implement it without using extra memory?<br>\n",
    "\n",
    "Example 1: <br>\n",
    "\n",
    "Input: [2,2,1]<br>\n",
    "Output: 1<br>\n",
    "Example 2:<br><br>\n",
    "\n",
    "Input: [4,1,2,1,2]<br>\n",
    "Output: 4<br>"
   ]
  },
  {
   "cell_type": "code",
   "execution_count": 126,
   "metadata": {},
   "outputs": [
    {
     "name": "stdout",
     "output_type": "stream",
     "text": [
      "4\n"
     ]
    }
   ],
   "source": [
    "class Solution:\n",
    "    def singleNumberNaive(self, nums):\n",
    "        \"\"\"\n",
    "        :type nums: List[int]\n",
    "        :rtype: int\n",
    "        \"\"\"\n",
    "        if not nums:\n",
    "            return -1\n",
    "        nums_set = set(nums)\n",
    "        for num in nums_set:\n",
    "            if nums.count(num) == 1:\n",
    "                return num\n",
    "        return -1\n",
    "    \n",
    "    def singleNumberNaive1(self, nums):\n",
    "        \"\"\"\n",
    "        :type nums: List[int]\n",
    "        :rtype: int\n",
    "        \"\"\"\n",
    "        main_dict = dict()\n",
    "        for num in nums:\n",
    "            if num not in main_dict:\n",
    "                main_dict[num] = 1\n",
    "            else:\n",
    "                main_dict[num] += 1\n",
    "\n",
    "        sorted_main_dict = {k: v for k, v in sorted(main_dict.items(), key=lambda item: item[1])}\n",
    "        \n",
    "        if sorted_main_dict[next(iter(sorted_main_dict))] == 1:\n",
    "            return next(iter(sorted_main_dict))\n",
    "        else:\n",
    "            return -1\n",
    "    \n",
    "    def singleNumberNaive2(self, nums):\n",
    "        \"\"\"\n",
    "        :type nums: List[int]\n",
    "        :rtype: int\n",
    "        \"\"\"\n",
    "        nums = sorted(nums)\n",
    "        continueStack = True\n",
    "        \n",
    "        while continueStack:\n",
    "            popped = nums.pop()\n",
    "            \n",
    "            if len(nums) == 0 or popped != nums[-1]:\n",
    "                return popped\n",
    "            \n",
    "            elif popped == nums[-1]:\n",
    "                del nums[-1]\n",
    "                \n",
    "        return popped\n",
    "    \n",
    "    def singleNumber(self, nums):\n",
    "        \"\"\"\n",
    "        :type nums: List[int]\n",
    "        :rtype: int\n",
    "        \"\"\"\n",
    "        main_dict = dict()\n",
    "        for num in nums:\n",
    "            if num not in main_dict:\n",
    "                main_dict[num] = 1\n",
    "            else:\n",
    "                main_dict[num] += 1\n",
    "\n",
    "        for num in main_dict:\n",
    "            if num \n",
    "    \n",
    "if __name__ == '__main__':\n",
    "    sol = Solution()\n",
    "    print(sol.singleNumber([4,1,2,1,2]))"
   ]
  },
  {
   "cell_type": "code",
   "execution_count": 98,
   "metadata": {},
   "outputs": [
    {
     "name": "stdout",
     "output_type": "stream",
     "text": [
      "2\n",
      "1\n"
     ]
    },
    {
     "data": {
      "text/plain": [
       "[4, 1, 2]"
      ]
     },
     "execution_count": 98,
     "metadata": {},
     "output_type": "execute_result"
    }
   ],
   "source": [
    "a = [4,1,2,1,2]\n",
    "print(a.pop())\n",
    "print(a.pop())\n",
    "a\n"
   ]
  },
  {
   "cell_type": "code",
   "execution_count": 95,
   "metadata": {},
   "outputs": [
    {
     "ename": "AttributeError",
     "evalue": "'dict_values' object has no attribute 'sort'",
     "output_type": "error",
     "traceback": [
      "\u001b[0;31m---------------------------------------------------------------------------\u001b[0m",
      "\u001b[0;31mAttributeError\u001b[0m                            Traceback (most recent call last)",
      "\u001b[0;32m<ipython-input-95-514f557e3ab7>\u001b[0m in \u001b[0;36m<module>\u001b[0;34m\u001b[0m\n\u001b[1;32m      1\u001b[0m \u001b[0ma\u001b[0m \u001b[0;34m=\u001b[0m \u001b[0;34m{\u001b[0m\u001b[0;36m1\u001b[0m\u001b[0;34m:\u001b[0m\u001b[0;36m2\u001b[0m\u001b[0;34m,\u001b[0m \u001b[0;36m3\u001b[0m\u001b[0;34m:\u001b[0m\u001b[0;36m4\u001b[0m\u001b[0;34m,\u001b[0m \u001b[0;36m4\u001b[0m\u001b[0;34m:\u001b[0m\u001b[0;36m5\u001b[0m\u001b[0;34m}\u001b[0m\u001b[0;34m\u001b[0m\u001b[0;34m\u001b[0m\u001b[0m\n\u001b[0;32m----> 2\u001b[0;31m \u001b[0mb\u001b[0m \u001b[0;34m=\u001b[0m \u001b[0ma\u001b[0m\u001b[0;34m.\u001b[0m\u001b[0mvalues\u001b[0m\u001b[0;34m(\u001b[0m\u001b[0;34m)\u001b[0m\u001b[0;34m.\u001b[0m\u001b[0msort\u001b[0m\u001b[0;34m(\u001b[0m\u001b[0mreverse\u001b[0m \u001b[0;34m=\u001b[0m \u001b[0;32mTrue\u001b[0m\u001b[0;34m)\u001b[0m\u001b[0;34m\u001b[0m\u001b[0;34m\u001b[0m\u001b[0m\n\u001b[0m",
      "\u001b[0;31mAttributeError\u001b[0m: 'dict_values' object has no attribute 'sort'"
     ]
    }
   ],
   "source": []
  },
  {
   "cell_type": "code",
   "execution_count": 76,
   "metadata": {},
   "outputs": [
    {
     "data": {
      "text/plain": [
       "{8: 1}"
      ]
     },
     "execution_count": 76,
     "metadata": {},
     "output_type": "execute_result"
    }
   ],
   "source": [
    "b"
   ]
  },
  {
   "cell_type": "code",
   "execution_count": null,
   "metadata": {},
   "outputs": [],
   "source": []
  }
 ],
 "metadata": {
  "kernelspec": {
   "display_name": "Python 3",
   "language": "python",
   "name": "python3"
  },
  "language_info": {
   "codemirror_mode": {
    "name": "ipython",
    "version": 3
   },
   "file_extension": ".py",
   "mimetype": "text/x-python",
   "name": "python",
   "nbconvert_exporter": "python",
   "pygments_lexer": "ipython3",
   "version": "3.7.4"
  }
 },
 "nbformat": 4,
 "nbformat_minor": 4
}
