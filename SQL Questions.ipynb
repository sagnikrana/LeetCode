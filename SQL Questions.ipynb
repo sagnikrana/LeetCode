{
 "cells": [
  {
   "source": [
    "1. Write a SQL query to get the second highest salary from the Employee table. <br>\n",
    "\n",
    "+----+--------+<br>\n",
    "| Id | Salary |<br>\n",
    "+----+--------+<br>\n",
    "| 1  | 100    |<br>\n",
    "| 2  | 200    |<br>\n",
    "| 3  | 300    |<br>\n",
    "+----+--------+<br>\n",
    "For example, given the above Employee table, the query should return 200 as the second highest salary. If there is no second highest salary, then the query should return null.<br><br>\n",
    "\n",
    "+---------------------+<br>\n",
    "| SecondHighestSalary |<br>\n",
    "+---------------------+<br>\n",
    "| 200                 |<br>\n",
    "+---------------------+<br>"
   ],
   "cell_type": "markdown",
   "metadata": {}
  },
  {
   "cell_type": "code",
   "execution_count": null,
   "metadata": {},
   "outputs": [],
   "source": [
    "SELECT\n",
    "    IFNULL(\n",
    "      (SELECT distinct(Salary)\n",
    "       FROM Employee\n",
    "       ORDER BY Salary DESC\n",
    "        LIMIT 1 OFFSET 1),\n",
    "    NULL) AS SecondHighestSalary"
   ]
  },
  {
   "source": [
    "The Employee table holds all employees including their managers. Every employee has an Id, and there is also a column for the manager Id.<br><br>\n",
    "\n",
    "+----+-------+--------+-----------+ <br>\n",
    "| Id | Name  | Salary | ManagerId |<br>\n",
    "++-------+--------+-----------+<br>\n",
    "| 1  | Joe   | 70000  | 3         |<br>\n",
    "| 2  | Henry | 80000  | 4         |<br>\n",
    "| 3  | Sam   | 60000  | NULL      |<br>\n",
    "| 4  | Max   | 90000  | NULL      |<br>\n",
    "+----+-------+--------+-----------+<br>\n",
    "Given the Employee table, write a SQL query that finds out employees who earn more than their managers. For the above table, Joe is the only employee who earns more than his manager.<br><br><br>\n",
    "\n",
    "+----------+<br>\n",
    "| Employee |<br>\n",
    "+----------+<br>\n",
    "| Joe      |<br>\n",
    "+----------+<br>"
   ],
   "cell_type": "markdown",
   "metadata": {}
  },
  {
   "source": [
    "select res.Name as Employee\n",
    "from (\n",
    "         select e.Name, e.Salary, e1.Salary as ManagerSalary\n",
    "         from Employee e\n",
    "                  left join employee e1 on e.ManagerID = e1.Id) res\n",
    "where res.Salary > res.ManagerSalary;"
   ],
   "cell_type": "code",
   "metadata": {},
   "execution_count": null,
   "outputs": []
  },
  {
   "cell_type": "code",
   "execution_count": null,
   "metadata": {},
   "outputs": [],
   "source": []
  }
 ],
 "metadata": {
  "kernelspec": {
   "name": "python3",
   "display_name": "Python 3.8.0 64-bit"
  },
  "language_info": {
   "codemirror_mode": {
    "name": "ipython",
    "version": 3
   },
   "file_extension": ".py",
   "mimetype": "text/x-python",
   "name": "python",
   "nbconvert_exporter": "python",
   "pygments_lexer": "ipython3",
   "version": "3.8.0"
  },
  "interpreter": {
   "hash": "aee8b7b246df8f9039afb4144a1f6fd8d2ca17a180786b69acc140d282b71a49"
  }
 },
 "nbformat": 4,
 "nbformat_minor": 4
}